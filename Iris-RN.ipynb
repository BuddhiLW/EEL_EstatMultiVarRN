{
 "cells": [
  {
   "cell_type": "code",
   "execution_count": 1,
   "metadata": {
    "collapsed": false
   },
   "outputs": [],
   "source": [
    "## Statistical thinking will one day be as necessary a qualification\n",
    "## for efficient citizenship as the ability to read and write. – H.G. Wells\n",
    "\n",
    "#chamar pacote de neural network (redes neurais)\n",
    "library(neuralnet)"
   ]
  },
  {
   "cell_type": "code",
   "execution_count": 2,
   "metadata": {
    "collapsed": false
   },
   "outputs": [
    {
     "data": {
      "text/html": [
       "<table>\n",
       "<caption>A data.frame: 6 x 5</caption>\n",
       "<thead>\n",
       "\t<tr><th></th><th scope=col>Sepal.Length</th><th scope=col>Sepal.Width</th><th scope=col>Petal.Length</th><th scope=col>Petal.Width</th><th scope=col>Species</th></tr>\n",
       "\t<tr><th></th><th scope=col>&lt;dbl&gt;</th><th scope=col>&lt;dbl&gt;</th><th scope=col>&lt;dbl&gt;</th><th scope=col>&lt;dbl&gt;</th><th scope=col>&lt;fct&gt;</th></tr>\n",
       "</thead>\n",
       "<tbody>\n",
       "\t<tr><th scope=row>1</th><td>5.1</td><td>3.5</td><td>1.4</td><td>0.2</td><td>setosa</td></tr>\n",
       "\t<tr><th scope=row>2</th><td>4.9</td><td>3.0</td><td>1.4</td><td>0.2</td><td>setosa</td></tr>\n",
       "\t<tr><th scope=row>3</th><td>4.7</td><td>3.2</td><td>1.3</td><td>0.2</td><td>setosa</td></tr>\n",
       "\t<tr><th scope=row>4</th><td>4.6</td><td>3.1</td><td>1.5</td><td>0.2</td><td>setosa</td></tr>\n",
       "\t<tr><th scope=row>5</th><td>5.0</td><td>3.6</td><td>1.4</td><td>0.2</td><td>setosa</td></tr>\n",
       "\t<tr><th scope=row>6</th><td>5.4</td><td>3.9</td><td>1.7</td><td>0.4</td><td>setosa</td></tr>\n",
       "</tbody>\n",
       "</table>\n"
      ],
      "text/latex": [
       "A data.frame: 6 x 5\n",
       "\\begin{tabular}{r|lllll}\n",
       "  & Sepal.Length & Sepal.Width & Petal.Length & Petal.Width & Species\\\\\n",
       "  & <dbl> & <dbl> & <dbl> & <dbl> & <fct>\\\\\n",
       "\\hline\n",
       "\t1 & 5.1 & 3.5 & 1.4 & 0.2 & setosa\\\\\n",
       "\t2 & 4.9 & 3.0 & 1.4 & 0.2 & setosa\\\\\n",
       "\t3 & 4.7 & 3.2 & 1.3 & 0.2 & setosa\\\\\n",
       "\t4 & 4.6 & 3.1 & 1.5 & 0.2 & setosa\\\\\n",
       "\t5 & 5.0 & 3.6 & 1.4 & 0.2 & setosa\\\\\n",
       "\t6 & 5.4 & 3.9 & 1.7 & 0.4 & setosa\\\\\n",
       "\\end{tabular}\n"
      ],
      "text/markdown": [
       "\n",
       "A data.frame: 6 x 5\n",
       "\n",
       "| <!--/--> | Sepal.Length &lt;dbl&gt; | Sepal.Width &lt;dbl&gt; | Petal.Length &lt;dbl&gt; | Petal.Width &lt;dbl&gt; | Species &lt;fct&gt; |\n",
       "|---|---|---|---|---|---|\n",
       "| 1 | 5.1 | 3.5 | 1.4 | 0.2 | setosa |\n",
       "| 2 | 4.9 | 3.0 | 1.4 | 0.2 | setosa |\n",
       "| 3 | 4.7 | 3.2 | 1.3 | 0.2 | setosa |\n",
       "| 4 | 4.6 | 3.1 | 1.5 | 0.2 | setosa |\n",
       "| 5 | 5.0 | 3.6 | 1.4 | 0.2 | setosa |\n",
       "| 6 | 5.4 | 3.9 | 1.7 | 0.4 | setosa |\n",
       "\n"
      ],
      "text/plain": [
       "  Sepal.Length Sepal.Width Petal.Length Petal.Width Species\n",
       "1 5.1          3.5         1.4          0.2         setosa \n",
       "2 4.9          3.0         1.4          0.2         setosa \n",
       "3 4.7          3.2         1.3          0.2         setosa \n",
       "4 4.6          3.1         1.5          0.2         setosa \n",
       "5 5.0          3.6         1.4          0.2         setosa \n",
       "6 5.4          3.9         1.7          0.4         setosa "
      ]
     },
     "metadata": {},
     "output_type": "display_data"
    }
   ],
   "source": [
    "head(iris)"
   ]
  },
  {
   "cell_type": "code",
   "execution_count": 3,
   "metadata": {
    "collapsed": false
   },
   "outputs": [],
   "source": [
    "#ponto os dados da iris dentro de um dataframe\n",
    "myiris <- iris"
   ]
  },
  {
   "cell_type": "code",
   "execution_count": 4,
   "metadata": {
    "collapsed": true
   },
   "outputs": [
    {
     "data": {
      "text/html": [
       "<table>\n",
       "<caption>A data.frame: 6 x 8</caption>\n",
       "<thead>\n",
       "\t<tr><th></th><th scope=col>Sepal.Length</th><th scope=col>Sepal.Width</th><th scope=col>Petal.Length</th><th scope=col>Petal.Width</th><th scope=col>Species</th><th scope=col>myiris$Species == \"setosa\"</th><th scope=col>myiris$Species == \"versicolor\"</th><th scope=col>myiris$Species == \"virginica\"</th></tr>\n",
       "\t<tr><th></th><th scope=col>&lt;dbl&gt;</th><th scope=col>&lt;dbl&gt;</th><th scope=col>&lt;dbl&gt;</th><th scope=col>&lt;dbl&gt;</th><th scope=col>&lt;fct&gt;</th><th scope=col>&lt;lgl&gt;</th><th scope=col>&lt;lgl&gt;</th><th scope=col>&lt;lgl&gt;</th></tr>\n",
       "</thead>\n",
       "<tbody>\n",
       "\t<tr><th scope=row>1</th><td>5.1</td><td>3.5</td><td>1.4</td><td>0.2</td><td>setosa</td><td>TRUE</td><td>FALSE</td><td>FALSE</td></tr>\n",
       "\t<tr><th scope=row>2</th><td>4.9</td><td>3.0</td><td>1.4</td><td>0.2</td><td>setosa</td><td>TRUE</td><td>FALSE</td><td>FALSE</td></tr>\n",
       "\t<tr><th scope=row>3</th><td>4.7</td><td>3.2</td><td>1.3</td><td>0.2</td><td>setosa</td><td>TRUE</td><td>FALSE</td><td>FALSE</td></tr>\n",
       "\t<tr><th scope=row>4</th><td>4.6</td><td>3.1</td><td>1.5</td><td>0.2</td><td>setosa</td><td>TRUE</td><td>FALSE</td><td>FALSE</td></tr>\n",
       "\t<tr><th scope=row>5</th><td>5.0</td><td>3.6</td><td>1.4</td><td>0.2</td><td>setosa</td><td>TRUE</td><td>FALSE</td><td>FALSE</td></tr>\n",
       "\t<tr><th scope=row>6</th><td>5.4</td><td>3.9</td><td>1.7</td><td>0.4</td><td>setosa</td><td>TRUE</td><td>FALSE</td><td>FALSE</td></tr>\n",
       "</tbody>\n",
       "</table>\n"
      ],
      "text/latex": [
       "A data.frame: 6 x 8\n",
       "\\begin{tabular}{r|llllllll}\n",
       "  & Sepal.Length & Sepal.Width & Petal.Length & Petal.Width & Species & myiris\\$Species == \"setosa\" & myiris\\$Species == \"versicolor\" & myiris\\$Species == \"virginica\"\\\\\n",
       "  & <dbl> & <dbl> & <dbl> & <dbl> & <fct> & <lgl> & <lgl> & <lgl>\\\\\n",
       "\\hline\n",
       "\t1 & 5.1 & 3.5 & 1.4 & 0.2 & setosa & TRUE & FALSE & FALSE\\\\\n",
       "\t2 & 4.9 & 3.0 & 1.4 & 0.2 & setosa & TRUE & FALSE & FALSE\\\\\n",
       "\t3 & 4.7 & 3.2 & 1.3 & 0.2 & setosa & TRUE & FALSE & FALSE\\\\\n",
       "\t4 & 4.6 & 3.1 & 1.5 & 0.2 & setosa & TRUE & FALSE & FALSE\\\\\n",
       "\t5 & 5.0 & 3.6 & 1.4 & 0.2 & setosa & TRUE & FALSE & FALSE\\\\\n",
       "\t6 & 5.4 & 3.9 & 1.7 & 0.4 & setosa & TRUE & FALSE & FALSE\\\\\n",
       "\\end{tabular}\n"
      ],
      "text/markdown": [
       "\n",
       "A data.frame: 6 x 8\n",
       "\n",
       "| <!--/--> | Sepal.Length &lt;dbl&gt; | Sepal.Width &lt;dbl&gt; | Petal.Length &lt;dbl&gt; | Petal.Width &lt;dbl&gt; | Species &lt;fct&gt; | myiris$Species == \"setosa\" &lt;lgl&gt; | myiris$Species == \"versicolor\" &lt;lgl&gt; | myiris$Species == \"virginica\" &lt;lgl&gt; |\n",
       "|---|---|---|---|---|---|---|---|---|\n",
       "| 1 | 5.1 | 3.5 | 1.4 | 0.2 | setosa | TRUE | FALSE | FALSE |\n",
       "| 2 | 4.9 | 3.0 | 1.4 | 0.2 | setosa | TRUE | FALSE | FALSE |\n",
       "| 3 | 4.7 | 3.2 | 1.3 | 0.2 | setosa | TRUE | FALSE | FALSE |\n",
       "| 4 | 4.6 | 3.1 | 1.5 | 0.2 | setosa | TRUE | FALSE | FALSE |\n",
       "| 5 | 5.0 | 3.6 | 1.4 | 0.2 | setosa | TRUE | FALSE | FALSE |\n",
       "| 6 | 5.4 | 3.9 | 1.7 | 0.4 | setosa | TRUE | FALSE | FALSE |\n",
       "\n"
      ],
      "text/plain": [
       "  Sepal.Length Sepal.Width Petal.Length Petal.Width Species\n",
       "1 5.1          3.5         1.4          0.2         setosa \n",
       "2 4.9          3.0         1.4          0.2         setosa \n",
       "3 4.7          3.2         1.3          0.2         setosa \n",
       "4 4.6          3.1         1.5          0.2         setosa \n",
       "5 5.0          3.6         1.4          0.2         setosa \n",
       "6 5.4          3.9         1.7          0.4         setosa \n",
       "  myiris$Species == \"setosa\" myiris$Species == \"versicolor\"\n",
       "1 TRUE                       FALSE                         \n",
       "2 TRUE                       FALSE                         \n",
       "3 TRUE                       FALSE                         \n",
       "4 TRUE                       FALSE                         \n",
       "5 TRUE                       FALSE                         \n",
       "6 TRUE                       FALSE                         \n",
       "  myiris$Species == \"virginica\"\n",
       "1 FALSE                        \n",
       "2 FALSE                        \n",
       "3 FALSE                        \n",
       "4 FALSE                        \n",
       "5 FALSE                        \n",
       "6 FALSE                        "
      ]
     },
     "metadata": {},
     "output_type": "display_data"
    }
   ],
   "source": [
    "#criando dataframe com colunas binárias (TRUE, FALSE), para cada\n",
    "#especie\n",
    "myiris_extra <- cbind(myiris, myiris$Species=='setosa')\n",
    "myiris_extra <- cbind(myiris_extra, myiris$Species=='versicolor')\n",
    "myiris_extra <- cbind(myiris_extra, myiris$Species=='virginica')\n",
    "\n",
    "head(myiris_extra)"
   ]
  },
  {
   "cell_type": "code",
   "execution_count": 5,
   "metadata": {
    "collapsed": true
   },
   "outputs": [
    {
     "data": {
      "text/html": [
       "<table>\n",
       "<caption>A data.frame: 6 x 8</caption>\n",
       "<thead>\n",
       "\t<tr><th></th><th scope=col>Sepal.Length</th><th scope=col>Sepal.Width</th><th scope=col>Petal.Length</th><th scope=col>Petal.Width</th><th scope=col>Species</th><th scope=col>setosa</th><th scope=col>versicolor</th><th scope=col>virginica</th></tr>\n",
       "\t<tr><th></th><th scope=col>&lt;dbl&gt;</th><th scope=col>&lt;dbl&gt;</th><th scope=col>&lt;dbl&gt;</th><th scope=col>&lt;dbl&gt;</th><th scope=col>&lt;fct&gt;</th><th scope=col>&lt;lgl&gt;</th><th scope=col>&lt;lgl&gt;</th><th scope=col>&lt;lgl&gt;</th></tr>\n",
       "</thead>\n",
       "<tbody>\n",
       "\t<tr><th scope=row>1</th><td>5.1</td><td>3.5</td><td>1.4</td><td>0.2</td><td>setosa</td><td>TRUE</td><td>FALSE</td><td>FALSE</td></tr>\n",
       "\t<tr><th scope=row>2</th><td>4.9</td><td>3.0</td><td>1.4</td><td>0.2</td><td>setosa</td><td>TRUE</td><td>FALSE</td><td>FALSE</td></tr>\n",
       "\t<tr><th scope=row>3</th><td>4.7</td><td>3.2</td><td>1.3</td><td>0.2</td><td>setosa</td><td>TRUE</td><td>FALSE</td><td>FALSE</td></tr>\n",
       "\t<tr><th scope=row>4</th><td>4.6</td><td>3.1</td><td>1.5</td><td>0.2</td><td>setosa</td><td>TRUE</td><td>FALSE</td><td>FALSE</td></tr>\n",
       "\t<tr><th scope=row>5</th><td>5.0</td><td>3.6</td><td>1.4</td><td>0.2</td><td>setosa</td><td>TRUE</td><td>FALSE</td><td>FALSE</td></tr>\n",
       "\t<tr><th scope=row>6</th><td>5.4</td><td>3.9</td><td>1.7</td><td>0.4</td><td>setosa</td><td>TRUE</td><td>FALSE</td><td>FALSE</td></tr>\n",
       "</tbody>\n",
       "</table>\n"
      ],
      "text/latex": [
       "A data.frame: 6 x 8\n",
       "\\begin{tabular}{r|llllllll}\n",
       "  & Sepal.Length & Sepal.Width & Petal.Length & Petal.Width & Species & setosa & versicolor & virginica\\\\\n",
       "  & <dbl> & <dbl> & <dbl> & <dbl> & <fct> & <lgl> & <lgl> & <lgl>\\\\\n",
       "\\hline\n",
       "\t1 & 5.1 & 3.5 & 1.4 & 0.2 & setosa & TRUE & FALSE & FALSE\\\\\n",
       "\t2 & 4.9 & 3.0 & 1.4 & 0.2 & setosa & TRUE & FALSE & FALSE\\\\\n",
       "\t3 & 4.7 & 3.2 & 1.3 & 0.2 & setosa & TRUE & FALSE & FALSE\\\\\n",
       "\t4 & 4.6 & 3.1 & 1.5 & 0.2 & setosa & TRUE & FALSE & FALSE\\\\\n",
       "\t5 & 5.0 & 3.6 & 1.4 & 0.2 & setosa & TRUE & FALSE & FALSE\\\\\n",
       "\t6 & 5.4 & 3.9 & 1.7 & 0.4 & setosa & TRUE & FALSE & FALSE\\\\\n",
       "\\end{tabular}\n"
      ],
      "text/markdown": [
       "\n",
       "A data.frame: 6 x 8\n",
       "\n",
       "| <!--/--> | Sepal.Length &lt;dbl&gt; | Sepal.Width &lt;dbl&gt; | Petal.Length &lt;dbl&gt; | Petal.Width &lt;dbl&gt; | Species &lt;fct&gt; | setosa &lt;lgl&gt; | versicolor &lt;lgl&gt; | virginica &lt;lgl&gt; |\n",
       "|---|---|---|---|---|---|---|---|---|\n",
       "| 1 | 5.1 | 3.5 | 1.4 | 0.2 | setosa | TRUE | FALSE | FALSE |\n",
       "| 2 | 4.9 | 3.0 | 1.4 | 0.2 | setosa | TRUE | FALSE | FALSE |\n",
       "| 3 | 4.7 | 3.2 | 1.3 | 0.2 | setosa | TRUE | FALSE | FALSE |\n",
       "| 4 | 4.6 | 3.1 | 1.5 | 0.2 | setosa | TRUE | FALSE | FALSE |\n",
       "| 5 | 5.0 | 3.6 | 1.4 | 0.2 | setosa | TRUE | FALSE | FALSE |\n",
       "| 6 | 5.4 | 3.9 | 1.7 | 0.4 | setosa | TRUE | FALSE | FALSE |\n",
       "\n"
      ],
      "text/plain": [
       "  Sepal.Length Sepal.Width Petal.Length Petal.Width Species setosa versicolor\n",
       "1 5.1          3.5         1.4          0.2         setosa  TRUE   FALSE     \n",
       "2 4.9          3.0         1.4          0.2         setosa  TRUE   FALSE     \n",
       "3 4.7          3.2         1.3          0.2         setosa  TRUE   FALSE     \n",
       "4 4.6          3.1         1.5          0.2         setosa  TRUE   FALSE     \n",
       "5 5.0          3.6         1.4          0.2         setosa  TRUE   FALSE     \n",
       "6 5.4          3.9         1.7          0.4         setosa  TRUE   FALSE     \n",
       "  virginica\n",
       "1 FALSE    \n",
       "2 FALSE    \n",
       "3 FALSE    \n",
       "4 FALSE    \n",
       "5 FALSE    \n",
       "6 FALSE    "
      ]
     },
     "metadata": {},
     "output_type": "display_data"
    }
   ],
   "source": [
    "#renomear as colunas (estetico)\n",
    "\n",
    "names(myiris_extra)[6] <- 'setosa'\n",
    "names(myiris_extra)[7] <- 'versicolor'\n",
    "names(myiris_extra)[8] <- 'virginica'\n",
    "head(myiris_extra)"
   ]
  },
  {
   "cell_type": "markdown",
   "metadata": {
    "collapsed": false
   },
   "source": [
    "#Dividindo o treino e a amostra-teste"
   ]
  },
  {
   "cell_type": "code",
   "execution_count": 6,
   "metadata": {
    "collapsed": false
   },
   "outputs": [
    {
     "data": {
      "text/html": [
       "150"
      ],
      "text/latex": [
       "150"
      ],
      "text/markdown": [
       "150"
      ],
      "text/plain": [
       "[1] 150"
      ]
     },
     "metadata": {},
     "output_type": "display_data"
    },
    {
     "data": {
      "text/html": [
       "8"
      ],
      "text/latex": [
       "8"
      ],
      "text/markdown": [
       "8"
      ],
      "text/plain": [
       "[1] 8"
      ]
     },
     "metadata": {},
     "output_type": "display_data"
    }
   ],
   "source": [
    "#Descobrindo o tamanho do meu conjunto de dados (passo de generalização para\n",
    "#outros datasets)\n",
    "nrow(myiris_extra)\n",
    "ncol(myiris_extra)"
   ]
  },
  {
   "cell_type": "markdown",
   "metadata": {
    "collapsed": false
   },
   "source": [
    "## Separando os valores de treino e dados_controle (\"grupo de controle\") ; utilizamos o comando sample(valores, n-linhas, replace=T, prob=c(.p,.q))"
   ]
  },
  {
   "cell_type": "code",
   "execution_count": 7,
   "metadata": {
    "collapsed": false
   },
   "outputs": [],
   "source": [
    "random_vector <- sample(2,150, replace=T, prob=c(.7,.3)) #=> 70% possuem valor 1, 30% valor 2 associados a um index"
   ]
  },
  {
   "cell_type": "code",
   "execution_count": 8,
   "metadata": {
    "collapsed": false
   },
   "outputs": [
    {
     "data": {
      "text/html": [
       "<style>\n",
       ".list-inline {list-style: none; margin:0; padding: 0}\n",
       ".list-inline>li {display: inline-block}\n",
       ".list-inline>li:not(:last-child)::after {content: \"\\00b7\"; padding: 0 .5ex}\n",
       "</style>\n",
       "<ol class=list-inline><li>2</li><li>3</li><li>4</li><li>7</li><li>9</li><li>10</li></ol>\n"
      ],
      "text/latex": [
       "\\begin{enumerate*}\n",
       "\\item 2\n",
       "\\item 3\n",
       "\\item 4\n",
       "\\item 7\n",
       "\\item 9\n",
       "\\item 10\n",
       "\\end{enumerate*}\n"
      ],
      "text/markdown": [
       "1. 2\n",
       "2. 3\n",
       "3. 4\n",
       "4. 7\n",
       "5. 9\n",
       "6. 10\n",
       "\n",
       "\n"
      ],
      "text/plain": [
       "[1]  2  3  4  7  9 10"
      ]
     },
     "metadata": {},
     "output_type": "display_data"
    }
   ],
   "source": [
    "head(which(random_vector==1))"
   ]
  },
  {
   "cell_type": "code",
   "execution_count": 9,
   "metadata": {
    "collapsed": false
   },
   "outputs": [
    {
     "data": {
      "text/html": [
       "<style>\n",
       ".list-inline {list-style: none; margin:0; padding: 0}\n",
       ".list-inline>li {display: inline-block}\n",
       ".list-inline>li:not(:last-child)::after {content: \"\\00b7\"; padding: 0 .5ex}\n",
       "</style>\n",
       "<ol class=list-inline><li>1</li><li>5</li><li>6</li><li>8</li><li>14</li><li>18</li></ol>\n"
      ],
      "text/latex": [
       "\\begin{enumerate*}\n",
       "\\item 1\n",
       "\\item 5\n",
       "\\item 6\n",
       "\\item 8\n",
       "\\item 14\n",
       "\\item 18\n",
       "\\end{enumerate*}\n"
      ],
      "text/markdown": [
       "1. 1\n",
       "2. 5\n",
       "3. 6\n",
       "4. 8\n",
       "5. 14\n",
       "6. 18\n",
       "\n",
       "\n"
      ],
      "text/plain": [
       "[1]  1  5  6  8 14 18"
      ]
     },
     "metadata": {},
     "output_type": "display_data"
    }
   ],
   "source": [
    "head(which(random_vector==2))"
   ]
  },
  {
   "cell_type": "markdown",
   "metadata": {
    "collapsed": false
   },
   "source": [
    "# Duas maneiras de se utilizar a amostragem, à partir das posições aleatórias gerada"
   ]
  },
  {
   "cell_type": "code",
   "execution_count": 10,
   "metadata": {
    "collapsed": false
   },
   "outputs": [],
   "source": [
    "##Curiosidade*\n",
    "\n",
    "## Inicializando data frame\n",
    "treino_for <- data.frame(matrix(ncol=length(myiris), nrow = 0))\n",
    "### criando o data frame, treino\n",
    "for(i in which(random_vector==1)){\n",
    "  treino_for <- rbind(treino_for, myiris_extra[i,])\n",
    "}\n",
    "##head(treino_for)"
   ]
  },
  {
   "cell_type": "code",
   "execution_count": 12,
   "metadata": {
    "collapsed": true
   },
   "outputs": [
    {
     "data": {
      "text/html": [
       "<table>\n",
       "<caption>A data.frame: 6 x 8</caption>\n",
       "<thead>\n",
       "\t<tr><th></th><th scope=col>Sepal.Length</th><th scope=col>Sepal.Width</th><th scope=col>Petal.Length</th><th scope=col>Petal.Width</th><th scope=col>Species</th><th scope=col>setosa</th><th scope=col>versicolor</th><th scope=col>virginica</th></tr>\n",
       "\t<tr><th></th><th scope=col>&lt;dbl&gt;</th><th scope=col>&lt;dbl&gt;</th><th scope=col>&lt;dbl&gt;</th><th scope=col>&lt;dbl&gt;</th><th scope=col>&lt;fct&gt;</th><th scope=col>&lt;lgl&gt;</th><th scope=col>&lt;lgl&gt;</th><th scope=col>&lt;lgl&gt;</th></tr>\n",
       "</thead>\n",
       "<tbody>\n",
       "\t<tr><th scope=row>2</th><td>4.9</td><td>3.0</td><td>1.4</td><td>0.2</td><td>setosa</td><td>TRUE</td><td>FALSE</td><td>FALSE</td></tr>\n",
       "\t<tr><th scope=row>3</th><td>4.7</td><td>3.2</td><td>1.3</td><td>0.2</td><td>setosa</td><td>TRUE</td><td>FALSE</td><td>FALSE</td></tr>\n",
       "\t<tr><th scope=row>4</th><td>4.6</td><td>3.1</td><td>1.5</td><td>0.2</td><td>setosa</td><td>TRUE</td><td>FALSE</td><td>FALSE</td></tr>\n",
       "\t<tr><th scope=row>7</th><td>4.6</td><td>3.4</td><td>1.4</td><td>0.3</td><td>setosa</td><td>TRUE</td><td>FALSE</td><td>FALSE</td></tr>\n",
       "\t<tr><th scope=row>9</th><td>4.4</td><td>2.9</td><td>1.4</td><td>0.2</td><td>setosa</td><td>TRUE</td><td>FALSE</td><td>FALSE</td></tr>\n",
       "\t<tr><th scope=row>10</th><td>4.9</td><td>3.1</td><td>1.5</td><td>0.1</td><td>setosa</td><td>TRUE</td><td>FALSE</td><td>FALSE</td></tr>\n",
       "</tbody>\n",
       "</table>\n"
      ],
      "text/latex": [
       "A data.frame: 6 x 8\n",
       "\\begin{tabular}{r|llllllll}\n",
       "  & Sepal.Length & Sepal.Width & Petal.Length & Petal.Width & Species & setosa & versicolor & virginica\\\\\n",
       "  & <dbl> & <dbl> & <dbl> & <dbl> & <fct> & <lgl> & <lgl> & <lgl>\\\\\n",
       "\\hline\n",
       "\t2 & 4.9 & 3.0 & 1.4 & 0.2 & setosa & TRUE & FALSE & FALSE\\\\\n",
       "\t3 & 4.7 & 3.2 & 1.3 & 0.2 & setosa & TRUE & FALSE & FALSE\\\\\n",
       "\t4 & 4.6 & 3.1 & 1.5 & 0.2 & setosa & TRUE & FALSE & FALSE\\\\\n",
       "\t7 & 4.6 & 3.4 & 1.4 & 0.3 & setosa & TRUE & FALSE & FALSE\\\\\n",
       "\t9 & 4.4 & 2.9 & 1.4 & 0.2 & setosa & TRUE & FALSE & FALSE\\\\\n",
       "\t10 & 4.9 & 3.1 & 1.5 & 0.1 & setosa & TRUE & FALSE & FALSE\\\\\n",
       "\\end{tabular}\n"
      ],
      "text/markdown": [
       "\n",
       "A data.frame: 6 x 8\n",
       "\n",
       "| <!--/--> | Sepal.Length &lt;dbl&gt; | Sepal.Width &lt;dbl&gt; | Petal.Length &lt;dbl&gt; | Petal.Width &lt;dbl&gt; | Species &lt;fct&gt; | setosa &lt;lgl&gt; | versicolor &lt;lgl&gt; | virginica &lt;lgl&gt; |\n",
       "|---|---|---|---|---|---|---|---|---|\n",
       "| 2 | 4.9 | 3.0 | 1.4 | 0.2 | setosa | TRUE | FALSE | FALSE |\n",
       "| 3 | 4.7 | 3.2 | 1.3 | 0.2 | setosa | TRUE | FALSE | FALSE |\n",
       "| 4 | 4.6 | 3.1 | 1.5 | 0.2 | setosa | TRUE | FALSE | FALSE |\n",
       "| 7 | 4.6 | 3.4 | 1.4 | 0.3 | setosa | TRUE | FALSE | FALSE |\n",
       "| 9 | 4.4 | 2.9 | 1.4 | 0.2 | setosa | TRUE | FALSE | FALSE |\n",
       "| 10 | 4.9 | 3.1 | 1.5 | 0.1 | setosa | TRUE | FALSE | FALSE |\n",
       "\n"
      ],
      "text/plain": [
       "   Sepal.Length Sepal.Width Petal.Length Petal.Width Species setosa versicolor\n",
       "2  4.9          3.0         1.4          0.2         setosa  TRUE   FALSE     \n",
       "3  4.7          3.2         1.3          0.2         setosa  TRUE   FALSE     \n",
       "4  4.6          3.1         1.5          0.2         setosa  TRUE   FALSE     \n",
       "7  4.6          3.4         1.4          0.3         setosa  TRUE   FALSE     \n",
       "9  4.4          2.9         1.4          0.2         setosa  TRUE   FALSE     \n",
       "10 4.9          3.1         1.5          0.1         setosa  TRUE   FALSE     \n",
       "   virginica\n",
       "2  FALSE    \n",
       "3  FALSE    \n",
       "4  FALSE    \n",
       "7  FALSE    \n",
       "9  FALSE    \n",
       "10 FALSE    "
      ]
     },
     "metadata": {},
     "output_type": "display_data"
    }
   ],
   "source": [
    "# A separação é feita, a partir do vetor-aleatório\n",
    "# técnica usadas: predicados/condicionais e slicing/indexação\n",
    "treino <- myiris_extra[which(random_vector==1),] #posições de linha, tal que os valores são 1 no vertor amostra 1; para todas as colunas.\n",
    "head(treino)"
   ]
  },
  {
   "cell_type": "code",
   "execution_count": 13,
   "metadata": {
    "collapsed": true
   },
   "outputs": [
    {
     "data": {
      "text/html": [
       "<table>\n",
       "<caption>A data.frame: 48 x 8</caption>\n",
       "<thead>\n",
       "\t<tr><th></th><th scope=col>Sepal.Length</th><th scope=col>Sepal.Width</th><th scope=col>Petal.Length</th><th scope=col>Petal.Width</th><th scope=col>Species</th><th scope=col>setosa</th><th scope=col>versicolor</th><th scope=col>virginica</th></tr>\n",
       "\t<tr><th></th><th scope=col>&lt;dbl&gt;</th><th scope=col>&lt;dbl&gt;</th><th scope=col>&lt;dbl&gt;</th><th scope=col>&lt;dbl&gt;</th><th scope=col>&lt;fct&gt;</th><th scope=col>&lt;lgl&gt;</th><th scope=col>&lt;lgl&gt;</th><th scope=col>&lt;lgl&gt;</th></tr>\n",
       "</thead>\n",
       "<tbody>\n",
       "\t<tr><th scope=row>1</th><td>5.1</td><td>3.5</td><td>1.4</td><td>0.2</td><td>setosa    </td><td> TRUE</td><td>FALSE</td><td>FALSE</td></tr>\n",
       "\t<tr><th scope=row>5</th><td>5.0</td><td>3.6</td><td>1.4</td><td>0.2</td><td>setosa    </td><td> TRUE</td><td>FALSE</td><td>FALSE</td></tr>\n",
       "\t<tr><th scope=row>6</th><td>5.4</td><td>3.9</td><td>1.7</td><td>0.4</td><td>setosa    </td><td> TRUE</td><td>FALSE</td><td>FALSE</td></tr>\n",
       "\t<tr><th scope=row>8</th><td>5.0</td><td>3.4</td><td>1.5</td><td>0.2</td><td>setosa    </td><td> TRUE</td><td>FALSE</td><td>FALSE</td></tr>\n",
       "\t<tr><th scope=row>14</th><td>4.3</td><td>3.0</td><td>1.1</td><td>0.1</td><td>setosa    </td><td> TRUE</td><td>FALSE</td><td>FALSE</td></tr>\n",
       "\t<tr><th scope=row>18</th><td>5.1</td><td>3.5</td><td>1.4</td><td>0.3</td><td>setosa    </td><td> TRUE</td><td>FALSE</td><td>FALSE</td></tr>\n",
       "\t<tr><th scope=row>21</th><td>5.4</td><td>3.4</td><td>1.7</td><td>0.2</td><td>setosa    </td><td> TRUE</td><td>FALSE</td><td>FALSE</td></tr>\n",
       "\t<tr><th scope=row>23</th><td>4.6</td><td>3.6</td><td>1.0</td><td>0.2</td><td>setosa    </td><td> TRUE</td><td>FALSE</td><td>FALSE</td></tr>\n",
       "\t<tr><th scope=row>26</th><td>5.0</td><td>3.0</td><td>1.6</td><td>0.2</td><td>setosa    </td><td> TRUE</td><td>FALSE</td><td>FALSE</td></tr>\n",
       "\t<tr><th scope=row>32</th><td>5.4</td><td>3.4</td><td>1.5</td><td>0.4</td><td>setosa    </td><td> TRUE</td><td>FALSE</td><td>FALSE</td></tr>\n",
       "\t<tr><th scope=row>34</th><td>5.5</td><td>4.2</td><td>1.4</td><td>0.2</td><td>setosa    </td><td> TRUE</td><td>FALSE</td><td>FALSE</td></tr>\n",
       "\t<tr><th scope=row>37</th><td>5.5</td><td>3.5</td><td>1.3</td><td>0.2</td><td>setosa    </td><td> TRUE</td><td>FALSE</td><td>FALSE</td></tr>\n",
       "\t<tr><th scope=row>40</th><td>5.1</td><td>3.4</td><td>1.5</td><td>0.2</td><td>setosa    </td><td> TRUE</td><td>FALSE</td><td>FALSE</td></tr>\n",
       "\t<tr><th scope=row>47</th><td>5.1</td><td>3.8</td><td>1.6</td><td>0.2</td><td>setosa    </td><td> TRUE</td><td>FALSE</td><td>FALSE</td></tr>\n",
       "\t<tr><th scope=row>51</th><td>7.0</td><td>3.2</td><td>4.7</td><td>1.4</td><td>versicolor</td><td>FALSE</td><td> TRUE</td><td>FALSE</td></tr>\n",
       "\t<tr><th scope=row>55</th><td>6.5</td><td>2.8</td><td>4.6</td><td>1.5</td><td>versicolor</td><td>FALSE</td><td> TRUE</td><td>FALSE</td></tr>\n",
       "\t<tr><th scope=row>61</th><td>5.0</td><td>2.0</td><td>3.5</td><td>1.0</td><td>versicolor</td><td>FALSE</td><td> TRUE</td><td>FALSE</td></tr>\n",
       "\t<tr><th scope=row>64</th><td>6.1</td><td>2.9</td><td>4.7</td><td>1.4</td><td>versicolor</td><td>FALSE</td><td> TRUE</td><td>FALSE</td></tr>\n",
       "\t<tr><th scope=row>67</th><td>5.6</td><td>3.0</td><td>4.5</td><td>1.5</td><td>versicolor</td><td>FALSE</td><td> TRUE</td><td>FALSE</td></tr>\n",
       "\t<tr><th scope=row>69</th><td>6.2</td><td>2.2</td><td>4.5</td><td>1.5</td><td>versicolor</td><td>FALSE</td><td> TRUE</td><td>FALSE</td></tr>\n",
       "\t<tr><th scope=row>71</th><td>5.9</td><td>3.2</td><td>4.8</td><td>1.8</td><td>versicolor</td><td>FALSE</td><td> TRUE</td><td>FALSE</td></tr>\n",
       "\t<tr><th scope=row>72</th><td>6.1</td><td>2.8</td><td>4.0</td><td>1.3</td><td>versicolor</td><td>FALSE</td><td> TRUE</td><td>FALSE</td></tr>\n",
       "\t<tr><th scope=row>74</th><td>6.1</td><td>2.8</td><td>4.7</td><td>1.2</td><td>versicolor</td><td>FALSE</td><td> TRUE</td><td>FALSE</td></tr>\n",
       "\t<tr><th scope=row>76</th><td>6.6</td><td>3.0</td><td>4.4</td><td>1.4</td><td>versicolor</td><td>FALSE</td><td> TRUE</td><td>FALSE</td></tr>\n",
       "\t<tr><th scope=row>77</th><td>6.8</td><td>2.8</td><td>4.8</td><td>1.4</td><td>versicolor</td><td>FALSE</td><td> TRUE</td><td>FALSE</td></tr>\n",
       "\t<tr><th scope=row>78</th><td>6.7</td><td>3.0</td><td>5.0</td><td>1.7</td><td>versicolor</td><td>FALSE</td><td> TRUE</td><td>FALSE</td></tr>\n",
       "\t<tr><th scope=row>79</th><td>6.0</td><td>2.9</td><td>4.5</td><td>1.5</td><td>versicolor</td><td>FALSE</td><td> TRUE</td><td>FALSE</td></tr>\n",
       "\t<tr><th scope=row>81</th><td>5.5</td><td>2.4</td><td>3.8</td><td>1.1</td><td>versicolor</td><td>FALSE</td><td> TRUE</td><td>FALSE</td></tr>\n",
       "\t<tr><th scope=row>85</th><td>5.4</td><td>3.0</td><td>4.5</td><td>1.5</td><td>versicolor</td><td>FALSE</td><td> TRUE</td><td>FALSE</td></tr>\n",
       "\t<tr><th scope=row>86</th><td>6.0</td><td>3.4</td><td>4.5</td><td>1.6</td><td>versicolor</td><td>FALSE</td><td> TRUE</td><td>FALSE</td></tr>\n",
       "\t<tr><th scope=row>88</th><td>6.3</td><td>2.3</td><td>4.4</td><td>1.3</td><td>versicolor</td><td>FALSE</td><td> TRUE</td><td>FALSE</td></tr>\n",
       "\t<tr><th scope=row>89</th><td>5.6</td><td>3.0</td><td>4.1</td><td>1.3</td><td>versicolor</td><td>FALSE</td><td> TRUE</td><td>FALSE</td></tr>\n",
       "\t<tr><th scope=row>90</th><td>5.5</td><td>2.5</td><td>4.0</td><td>1.3</td><td>versicolor</td><td>FALSE</td><td> TRUE</td><td>FALSE</td></tr>\n",
       "\t<tr><th scope=row>95</th><td>5.6</td><td>2.7</td><td>4.2</td><td>1.3</td><td>versicolor</td><td>FALSE</td><td> TRUE</td><td>FALSE</td></tr>\n",
       "\t<tr><th scope=row>98</th><td>6.2</td><td>2.9</td><td>4.3</td><td>1.3</td><td>versicolor</td><td>FALSE</td><td> TRUE</td><td>FALSE</td></tr>\n",
       "\t<tr><th scope=row>101</th><td>6.3</td><td>3.3</td><td>6.0</td><td>2.5</td><td>virginica </td><td>FALSE</td><td>FALSE</td><td> TRUE</td></tr>\n",
       "\t<tr><th scope=row>102</th><td>5.8</td><td>2.7</td><td>5.1</td><td>1.9</td><td>virginica </td><td>FALSE</td><td>FALSE</td><td> TRUE</td></tr>\n",
       "\t<tr><th scope=row>104</th><td>6.3</td><td>2.9</td><td>5.6</td><td>1.8</td><td>virginica </td><td>FALSE</td><td>FALSE</td><td> TRUE</td></tr>\n",
       "\t<tr><th scope=row>106</th><td>7.6</td><td>3.0</td><td>6.6</td><td>2.1</td><td>virginica </td><td>FALSE</td><td>FALSE</td><td> TRUE</td></tr>\n",
       "\t<tr><th scope=row>108</th><td>7.3</td><td>2.9</td><td>6.3</td><td>1.8</td><td>virginica </td><td>FALSE</td><td>FALSE</td><td> TRUE</td></tr>\n",
       "\t<tr><th scope=row>112</th><td>6.4</td><td>2.7</td><td>5.3</td><td>1.9</td><td>virginica </td><td>FALSE</td><td>FALSE</td><td> TRUE</td></tr>\n",
       "\t<tr><th scope=row>115</th><td>5.8</td><td>2.8</td><td>5.1</td><td>2.4</td><td>virginica </td><td>FALSE</td><td>FALSE</td><td> TRUE</td></tr>\n",
       "\t<tr><th scope=row>120</th><td>6.0</td><td>2.2</td><td>5.0</td><td>1.5</td><td>virginica </td><td>FALSE</td><td>FALSE</td><td> TRUE</td></tr>\n",
       "\t<tr><th scope=row>125</th><td>6.7</td><td>3.3</td><td>5.7</td><td>2.1</td><td>virginica </td><td>FALSE</td><td>FALSE</td><td> TRUE</td></tr>\n",
       "\t<tr><th scope=row>132</th><td>7.9</td><td>3.8</td><td>6.4</td><td>2.0</td><td>virginica </td><td>FALSE</td><td>FALSE</td><td> TRUE</td></tr>\n",
       "\t<tr><th scope=row>143</th><td>5.8</td><td>2.7</td><td>5.1</td><td>1.9</td><td>virginica </td><td>FALSE</td><td>FALSE</td><td> TRUE</td></tr>\n",
       "\t<tr><th scope=row>145</th><td>6.7</td><td>3.3</td><td>5.7</td><td>2.5</td><td>virginica </td><td>FALSE</td><td>FALSE</td><td> TRUE</td></tr>\n",
       "\t<tr><th scope=row>150</th><td>5.9</td><td>3.0</td><td>5.1</td><td>1.8</td><td>virginica </td><td>FALSE</td><td>FALSE</td><td> TRUE</td></tr>\n",
       "</tbody>\n",
       "</table>\n"
      ],
      "text/latex": [
       "A data.frame: 48 x 8\n",
       "\\begin{tabular}{r|llllllll}\n",
       "  & Sepal.Length & Sepal.Width & Petal.Length & Petal.Width & Species & setosa & versicolor & virginica\\\\\n",
       "  & <dbl> & <dbl> & <dbl> & <dbl> & <fct> & <lgl> & <lgl> & <lgl>\\\\\n",
       "\\hline\n",
       "\t1 & 5.1 & 3.5 & 1.4 & 0.2 & setosa     &  TRUE & FALSE & FALSE\\\\\n",
       "\t5 & 5.0 & 3.6 & 1.4 & 0.2 & setosa     &  TRUE & FALSE & FALSE\\\\\n",
       "\t6 & 5.4 & 3.9 & 1.7 & 0.4 & setosa     &  TRUE & FALSE & FALSE\\\\\n",
       "\t8 & 5.0 & 3.4 & 1.5 & 0.2 & setosa     &  TRUE & FALSE & FALSE\\\\\n",
       "\t14 & 4.3 & 3.0 & 1.1 & 0.1 & setosa     &  TRUE & FALSE & FALSE\\\\\n",
       "\t18 & 5.1 & 3.5 & 1.4 & 0.3 & setosa     &  TRUE & FALSE & FALSE\\\\\n",
       "\t21 & 5.4 & 3.4 & 1.7 & 0.2 & setosa     &  TRUE & FALSE & FALSE\\\\\n",
       "\t23 & 4.6 & 3.6 & 1.0 & 0.2 & setosa     &  TRUE & FALSE & FALSE\\\\\n",
       "\t26 & 5.0 & 3.0 & 1.6 & 0.2 & setosa     &  TRUE & FALSE & FALSE\\\\\n",
       "\t32 & 5.4 & 3.4 & 1.5 & 0.4 & setosa     &  TRUE & FALSE & FALSE\\\\\n",
       "\t34 & 5.5 & 4.2 & 1.4 & 0.2 & setosa     &  TRUE & FALSE & FALSE\\\\\n",
       "\t37 & 5.5 & 3.5 & 1.3 & 0.2 & setosa     &  TRUE & FALSE & FALSE\\\\\n",
       "\t40 & 5.1 & 3.4 & 1.5 & 0.2 & setosa     &  TRUE & FALSE & FALSE\\\\\n",
       "\t47 & 5.1 & 3.8 & 1.6 & 0.2 & setosa     &  TRUE & FALSE & FALSE\\\\\n",
       "\t51 & 7.0 & 3.2 & 4.7 & 1.4 & versicolor & FALSE &  TRUE & FALSE\\\\\n",
       "\t55 & 6.5 & 2.8 & 4.6 & 1.5 & versicolor & FALSE &  TRUE & FALSE\\\\\n",
       "\t61 & 5.0 & 2.0 & 3.5 & 1.0 & versicolor & FALSE &  TRUE & FALSE\\\\\n",
       "\t64 & 6.1 & 2.9 & 4.7 & 1.4 & versicolor & FALSE &  TRUE & FALSE\\\\\n",
       "\t67 & 5.6 & 3.0 & 4.5 & 1.5 & versicolor & FALSE &  TRUE & FALSE\\\\\n",
       "\t69 & 6.2 & 2.2 & 4.5 & 1.5 & versicolor & FALSE &  TRUE & FALSE\\\\\n",
       "\t71 & 5.9 & 3.2 & 4.8 & 1.8 & versicolor & FALSE &  TRUE & FALSE\\\\\n",
       "\t72 & 6.1 & 2.8 & 4.0 & 1.3 & versicolor & FALSE &  TRUE & FALSE\\\\\n",
       "\t74 & 6.1 & 2.8 & 4.7 & 1.2 & versicolor & FALSE &  TRUE & FALSE\\\\\n",
       "\t76 & 6.6 & 3.0 & 4.4 & 1.4 & versicolor & FALSE &  TRUE & FALSE\\\\\n",
       "\t77 & 6.8 & 2.8 & 4.8 & 1.4 & versicolor & FALSE &  TRUE & FALSE\\\\\n",
       "\t78 & 6.7 & 3.0 & 5.0 & 1.7 & versicolor & FALSE &  TRUE & FALSE\\\\\n",
       "\t79 & 6.0 & 2.9 & 4.5 & 1.5 & versicolor & FALSE &  TRUE & FALSE\\\\\n",
       "\t81 & 5.5 & 2.4 & 3.8 & 1.1 & versicolor & FALSE &  TRUE & FALSE\\\\\n",
       "\t85 & 5.4 & 3.0 & 4.5 & 1.5 & versicolor & FALSE &  TRUE & FALSE\\\\\n",
       "\t86 & 6.0 & 3.4 & 4.5 & 1.6 & versicolor & FALSE &  TRUE & FALSE\\\\\n",
       "\t88 & 6.3 & 2.3 & 4.4 & 1.3 & versicolor & FALSE &  TRUE & FALSE\\\\\n",
       "\t89 & 5.6 & 3.0 & 4.1 & 1.3 & versicolor & FALSE &  TRUE & FALSE\\\\\n",
       "\t90 & 5.5 & 2.5 & 4.0 & 1.3 & versicolor & FALSE &  TRUE & FALSE\\\\\n",
       "\t95 & 5.6 & 2.7 & 4.2 & 1.3 & versicolor & FALSE &  TRUE & FALSE\\\\\n",
       "\t98 & 6.2 & 2.9 & 4.3 & 1.3 & versicolor & FALSE &  TRUE & FALSE\\\\\n",
       "\t101 & 6.3 & 3.3 & 6.0 & 2.5 & virginica  & FALSE & FALSE &  TRUE\\\\\n",
       "\t102 & 5.8 & 2.7 & 5.1 & 1.9 & virginica  & FALSE & FALSE &  TRUE\\\\\n",
       "\t104 & 6.3 & 2.9 & 5.6 & 1.8 & virginica  & FALSE & FALSE &  TRUE\\\\\n",
       "\t106 & 7.6 & 3.0 & 6.6 & 2.1 & virginica  & FALSE & FALSE &  TRUE\\\\\n",
       "\t108 & 7.3 & 2.9 & 6.3 & 1.8 & virginica  & FALSE & FALSE &  TRUE\\\\\n",
       "\t112 & 6.4 & 2.7 & 5.3 & 1.9 & virginica  & FALSE & FALSE &  TRUE\\\\\n",
       "\t115 & 5.8 & 2.8 & 5.1 & 2.4 & virginica  & FALSE & FALSE &  TRUE\\\\\n",
       "\t120 & 6.0 & 2.2 & 5.0 & 1.5 & virginica  & FALSE & FALSE &  TRUE\\\\\n",
       "\t125 & 6.7 & 3.3 & 5.7 & 2.1 & virginica  & FALSE & FALSE &  TRUE\\\\\n",
       "\t132 & 7.9 & 3.8 & 6.4 & 2.0 & virginica  & FALSE & FALSE &  TRUE\\\\\n",
       "\t143 & 5.8 & 2.7 & 5.1 & 1.9 & virginica  & FALSE & FALSE &  TRUE\\\\\n",
       "\t145 & 6.7 & 3.3 & 5.7 & 2.5 & virginica  & FALSE & FALSE &  TRUE\\\\\n",
       "\t150 & 5.9 & 3.0 & 5.1 & 1.8 & virginica  & FALSE & FALSE &  TRUE\\\\\n",
       "\\end{tabular}\n"
      ],
      "text/markdown": [
       "\n",
       "A data.frame: 48 x 8\n",
       "\n",
       "| <!--/--> | Sepal.Length &lt;dbl&gt; | Sepal.Width &lt;dbl&gt; | Petal.Length &lt;dbl&gt; | Petal.Width &lt;dbl&gt; | Species &lt;fct&gt; | setosa &lt;lgl&gt; | versicolor &lt;lgl&gt; | virginica &lt;lgl&gt; |\n",
       "|---|---|---|---|---|---|---|---|---|\n",
       "| 1 | 5.1 | 3.5 | 1.4 | 0.2 | setosa     |  TRUE | FALSE | FALSE |\n",
       "| 5 | 5.0 | 3.6 | 1.4 | 0.2 | setosa     |  TRUE | FALSE | FALSE |\n",
       "| 6 | 5.4 | 3.9 | 1.7 | 0.4 | setosa     |  TRUE | FALSE | FALSE |\n",
       "| 8 | 5.0 | 3.4 | 1.5 | 0.2 | setosa     |  TRUE | FALSE | FALSE |\n",
       "| 14 | 4.3 | 3.0 | 1.1 | 0.1 | setosa     |  TRUE | FALSE | FALSE |\n",
       "| 18 | 5.1 | 3.5 | 1.4 | 0.3 | setosa     |  TRUE | FALSE | FALSE |\n",
       "| 21 | 5.4 | 3.4 | 1.7 | 0.2 | setosa     |  TRUE | FALSE | FALSE |\n",
       "| 23 | 4.6 | 3.6 | 1.0 | 0.2 | setosa     |  TRUE | FALSE | FALSE |\n",
       "| 26 | 5.0 | 3.0 | 1.6 | 0.2 | setosa     |  TRUE | FALSE | FALSE |\n",
       "| 32 | 5.4 | 3.4 | 1.5 | 0.4 | setosa     |  TRUE | FALSE | FALSE |\n",
       "| 34 | 5.5 | 4.2 | 1.4 | 0.2 | setosa     |  TRUE | FALSE | FALSE |\n",
       "| 37 | 5.5 | 3.5 | 1.3 | 0.2 | setosa     |  TRUE | FALSE | FALSE |\n",
       "| 40 | 5.1 | 3.4 | 1.5 | 0.2 | setosa     |  TRUE | FALSE | FALSE |\n",
       "| 47 | 5.1 | 3.8 | 1.6 | 0.2 | setosa     |  TRUE | FALSE | FALSE |\n",
       "| 51 | 7.0 | 3.2 | 4.7 | 1.4 | versicolor | FALSE |  TRUE | FALSE |\n",
       "| 55 | 6.5 | 2.8 | 4.6 | 1.5 | versicolor | FALSE |  TRUE | FALSE |\n",
       "| 61 | 5.0 | 2.0 | 3.5 | 1.0 | versicolor | FALSE |  TRUE | FALSE |\n",
       "| 64 | 6.1 | 2.9 | 4.7 | 1.4 | versicolor | FALSE |  TRUE | FALSE |\n",
       "| 67 | 5.6 | 3.0 | 4.5 | 1.5 | versicolor | FALSE |  TRUE | FALSE |\n",
       "| 69 | 6.2 | 2.2 | 4.5 | 1.5 | versicolor | FALSE |  TRUE | FALSE |\n",
       "| 71 | 5.9 | 3.2 | 4.8 | 1.8 | versicolor | FALSE |  TRUE | FALSE |\n",
       "| 72 | 6.1 | 2.8 | 4.0 | 1.3 | versicolor | FALSE |  TRUE | FALSE |\n",
       "| 74 | 6.1 | 2.8 | 4.7 | 1.2 | versicolor | FALSE |  TRUE | FALSE |\n",
       "| 76 | 6.6 | 3.0 | 4.4 | 1.4 | versicolor | FALSE |  TRUE | FALSE |\n",
       "| 77 | 6.8 | 2.8 | 4.8 | 1.4 | versicolor | FALSE |  TRUE | FALSE |\n",
       "| 78 | 6.7 | 3.0 | 5.0 | 1.7 | versicolor | FALSE |  TRUE | FALSE |\n",
       "| 79 | 6.0 | 2.9 | 4.5 | 1.5 | versicolor | FALSE |  TRUE | FALSE |\n",
       "| 81 | 5.5 | 2.4 | 3.8 | 1.1 | versicolor | FALSE |  TRUE | FALSE |\n",
       "| 85 | 5.4 | 3.0 | 4.5 | 1.5 | versicolor | FALSE |  TRUE | FALSE |\n",
       "| 86 | 6.0 | 3.4 | 4.5 | 1.6 | versicolor | FALSE |  TRUE | FALSE |\n",
       "| 88 | 6.3 | 2.3 | 4.4 | 1.3 | versicolor | FALSE |  TRUE | FALSE |\n",
       "| 89 | 5.6 | 3.0 | 4.1 | 1.3 | versicolor | FALSE |  TRUE | FALSE |\n",
       "| 90 | 5.5 | 2.5 | 4.0 | 1.3 | versicolor | FALSE |  TRUE | FALSE |\n",
       "| 95 | 5.6 | 2.7 | 4.2 | 1.3 | versicolor | FALSE |  TRUE | FALSE |\n",
       "| 98 | 6.2 | 2.9 | 4.3 | 1.3 | versicolor | FALSE |  TRUE | FALSE |\n",
       "| 101 | 6.3 | 3.3 | 6.0 | 2.5 | virginica  | FALSE | FALSE |  TRUE |\n",
       "| 102 | 5.8 | 2.7 | 5.1 | 1.9 | virginica  | FALSE | FALSE |  TRUE |\n",
       "| 104 | 6.3 | 2.9 | 5.6 | 1.8 | virginica  | FALSE | FALSE |  TRUE |\n",
       "| 106 | 7.6 | 3.0 | 6.6 | 2.1 | virginica  | FALSE | FALSE |  TRUE |\n",
       "| 108 | 7.3 | 2.9 | 6.3 | 1.8 | virginica  | FALSE | FALSE |  TRUE |\n",
       "| 112 | 6.4 | 2.7 | 5.3 | 1.9 | virginica  | FALSE | FALSE |  TRUE |\n",
       "| 115 | 5.8 | 2.8 | 5.1 | 2.4 | virginica  | FALSE | FALSE |  TRUE |\n",
       "| 120 | 6.0 | 2.2 | 5.0 | 1.5 | virginica  | FALSE | FALSE |  TRUE |\n",
       "| 125 | 6.7 | 3.3 | 5.7 | 2.1 | virginica  | FALSE | FALSE |  TRUE |\n",
       "| 132 | 7.9 | 3.8 | 6.4 | 2.0 | virginica  | FALSE | FALSE |  TRUE |\n",
       "| 143 | 5.8 | 2.7 | 5.1 | 1.9 | virginica  | FALSE | FALSE |  TRUE |\n",
       "| 145 | 6.7 | 3.3 | 5.7 | 2.5 | virginica  | FALSE | FALSE |  TRUE |\n",
       "| 150 | 5.9 | 3.0 | 5.1 | 1.8 | virginica  | FALSE | FALSE |  TRUE |\n",
       "\n"
      ],
      "text/plain": [
       "    Sepal.Length Sepal.Width Petal.Length Petal.Width Species    setosa\n",
       "1   5.1          3.5         1.4          0.2         setosa      TRUE \n",
       "5   5.0          3.6         1.4          0.2         setosa      TRUE \n",
       "6   5.4          3.9         1.7          0.4         setosa      TRUE \n",
       "8   5.0          3.4         1.5          0.2         setosa      TRUE \n",
       "14  4.3          3.0         1.1          0.1         setosa      TRUE \n",
       "18  5.1          3.5         1.4          0.3         setosa      TRUE \n",
       "21  5.4          3.4         1.7          0.2         setosa      TRUE \n",
       "23  4.6          3.6         1.0          0.2         setosa      TRUE \n",
       "26  5.0          3.0         1.6          0.2         setosa      TRUE \n",
       "32  5.4          3.4         1.5          0.4         setosa      TRUE \n",
       "34  5.5          4.2         1.4          0.2         setosa      TRUE \n",
       "37  5.5          3.5         1.3          0.2         setosa      TRUE \n",
       "40  5.1          3.4         1.5          0.2         setosa      TRUE \n",
       "47  5.1          3.8         1.6          0.2         setosa      TRUE \n",
       "51  7.0          3.2         4.7          1.4         versicolor FALSE \n",
       "55  6.5          2.8         4.6          1.5         versicolor FALSE \n",
       "61  5.0          2.0         3.5          1.0         versicolor FALSE \n",
       "64  6.1          2.9         4.7          1.4         versicolor FALSE \n",
       "67  5.6          3.0         4.5          1.5         versicolor FALSE \n",
       "69  6.2          2.2         4.5          1.5         versicolor FALSE \n",
       "71  5.9          3.2         4.8          1.8         versicolor FALSE \n",
       "72  6.1          2.8         4.0          1.3         versicolor FALSE \n",
       "74  6.1          2.8         4.7          1.2         versicolor FALSE \n",
       "76  6.6          3.0         4.4          1.4         versicolor FALSE \n",
       "77  6.8          2.8         4.8          1.4         versicolor FALSE \n",
       "78  6.7          3.0         5.0          1.7         versicolor FALSE \n",
       "79  6.0          2.9         4.5          1.5         versicolor FALSE \n",
       "81  5.5          2.4         3.8          1.1         versicolor FALSE \n",
       "85  5.4          3.0         4.5          1.5         versicolor FALSE \n",
       "86  6.0          3.4         4.5          1.6         versicolor FALSE \n",
       "88  6.3          2.3         4.4          1.3         versicolor FALSE \n",
       "89  5.6          3.0         4.1          1.3         versicolor FALSE \n",
       "90  5.5          2.5         4.0          1.3         versicolor FALSE \n",
       "95  5.6          2.7         4.2          1.3         versicolor FALSE \n",
       "98  6.2          2.9         4.3          1.3         versicolor FALSE \n",
       "101 6.3          3.3         6.0          2.5         virginica  FALSE \n",
       "102 5.8          2.7         5.1          1.9         virginica  FALSE \n",
       "104 6.3          2.9         5.6          1.8         virginica  FALSE \n",
       "106 7.6          3.0         6.6          2.1         virginica  FALSE \n",
       "108 7.3          2.9         6.3          1.8         virginica  FALSE \n",
       "112 6.4          2.7         5.3          1.9         virginica  FALSE \n",
       "115 5.8          2.8         5.1          2.4         virginica  FALSE \n",
       "120 6.0          2.2         5.0          1.5         virginica  FALSE \n",
       "125 6.7          3.3         5.7          2.1         virginica  FALSE \n",
       "132 7.9          3.8         6.4          2.0         virginica  FALSE \n",
       "143 5.8          2.7         5.1          1.9         virginica  FALSE \n",
       "145 6.7          3.3         5.7          2.5         virginica  FALSE \n",
       "150 5.9          3.0         5.1          1.8         virginica  FALSE \n",
       "    versicolor virginica\n",
       "1   FALSE      FALSE    \n",
       "5   FALSE      FALSE    \n",
       "6   FALSE      FALSE    \n",
       "8   FALSE      FALSE    \n",
       "14  FALSE      FALSE    \n",
       "18  FALSE      FALSE    \n",
       "21  FALSE      FALSE    \n",
       "23  FALSE      FALSE    \n",
       "26  FALSE      FALSE    \n",
       "32  FALSE      FALSE    \n",
       "34  FALSE      FALSE    \n",
       "37  FALSE      FALSE    \n",
       "40  FALSE      FALSE    \n",
       "47  FALSE      FALSE    \n",
       "51   TRUE      FALSE    \n",
       "55   TRUE      FALSE    \n",
       "61   TRUE      FALSE    \n",
       "64   TRUE      FALSE    \n",
       "67   TRUE      FALSE    \n",
       "69   TRUE      FALSE    \n",
       "71   TRUE      FALSE    \n",
       "72   TRUE      FALSE    \n",
       "74   TRUE      FALSE    \n",
       "76   TRUE      FALSE    \n",
       "77   TRUE      FALSE    \n",
       "78   TRUE      FALSE    \n",
       "79   TRUE      FALSE    \n",
       "81   TRUE      FALSE    \n",
       "85   TRUE      FALSE    \n",
       "86   TRUE      FALSE    \n",
       "88   TRUE      FALSE    \n",
       "89   TRUE      FALSE    \n",
       "90   TRUE      FALSE    \n",
       "95   TRUE      FALSE    \n",
       "98   TRUE      FALSE    \n",
       "101 FALSE       TRUE    \n",
       "102 FALSE       TRUE    \n",
       "104 FALSE       TRUE    \n",
       "106 FALSE       TRUE    \n",
       "108 FALSE       TRUE    \n",
       "112 FALSE       TRUE    \n",
       "115 FALSE       TRUE    \n",
       "120 FALSE       TRUE    \n",
       "125 FALSE       TRUE    \n",
       "132 FALSE       TRUE    \n",
       "143 FALSE       TRUE    \n",
       "145 FALSE       TRUE    \n",
       "150 FALSE       TRUE    "
      ]
     },
     "metadata": {},
     "output_type": "display_data"
    }
   ],
   "source": [
    "dados_controle <- myiris_extra[which(random_vector==2),]\n",
    "dados_controle"
   ]
  },
  {
   "cell_type": "code",
   "execution_count": 14,
   "metadata": {
    "collapsed": false
   },
   "outputs": [],
   "source": [
    "#criar o modelo usando a biblioteca neuralnet\n",
    "\n",
    "## Sintaxe geral:\n",
    "## neuralnet(formula, dado-treino, parametros-de-treino-etc)\n",
    "\n",
    "### PARAMETROS POSSÍVEIS:\n",
    "## formula, data, hidden #=> estrutura basica\n",
    "## treshold\n",
    "## rep\n",
    "## startweights\n",
    "## algorithm ->  \"backprop\" || \"rprop+\", \"rprop-\" ||  \"sag\", \"slr\" ||\n",
    "## err.fct\n",
    "## act.fct -> \"logistic\", \"tanh\"\n",
    "## linear.output -> Default: TRUE || se quiser utilizar função de ativação, deixar FALSE\n",
    "## exclude\n",
    "## constant.weights\n",
    "\n",
    "## Consultar:\n",
    "## https://journal.r-project.org/archive/2010/RJ-2010-006/RJ-2010-006.pdf\n",
    "\n",
    "modelo <- neuralnet(setosa + versicolor + virginica ~ Sepal.Length + Sepal.Width + Petal.Length+Petal.Width, treino, hidden=c(5,5))"
   ]
  },
  {
   "cell_type": "code",
   "execution_count": 15,
   "metadata": {
    "collapsed": true
   },
   "outputs": [
    {
     "data": {
      "text/plain": [
       "$call\n",
       "neuralnet(formula = setosa + versicolor + virginica ~ Sepal.Length + \n",
       "    Sepal.Width + Petal.Length + Petal.Width, data = treino, \n",
       "    hidden = c(5, 5))\n",
       "\n",
       "$response\n",
       "    setosa versicolor virginica\n",
       "2     TRUE      FALSE     FALSE\n",
       "3     TRUE      FALSE     FALSE\n",
       "4     TRUE      FALSE     FALSE\n",
       "7     TRUE      FALSE     FALSE\n",
       "9     TRUE      FALSE     FALSE\n",
       "10    TRUE      FALSE     FALSE\n",
       "11    TRUE      FALSE     FALSE\n",
       "12    TRUE      FALSE     FALSE\n",
       "13    TRUE      FALSE     FALSE\n",
       "15    TRUE      FALSE     FALSE\n",
       "16    TRUE      FALSE     FALSE\n",
       "17    TRUE      FALSE     FALSE\n",
       "19    TRUE      FALSE     FALSE\n",
       "20    TRUE      FALSE     FALSE\n",
       "22    TRUE      FALSE     FALSE\n",
       "24    TRUE      FALSE     FALSE\n",
       "25    TRUE      FALSE     FALSE\n",
       "27    TRUE      FALSE     FALSE\n",
       "28    TRUE      FALSE     FALSE\n",
       "29    TRUE      FALSE     FALSE\n",
       "30    TRUE      FALSE     FALSE\n",
       "31    TRUE      FALSE     FALSE\n",
       "33    TRUE      FALSE     FALSE\n",
       "35    TRUE      FALSE     FALSE\n",
       "36    TRUE      FALSE     FALSE\n",
       "38    TRUE      FALSE     FALSE\n",
       "39    TRUE      FALSE     FALSE\n",
       "41    TRUE      FALSE     FALSE\n",
       "42    TRUE      FALSE     FALSE\n",
       "43    TRUE      FALSE     FALSE\n",
       "44    TRUE      FALSE     FALSE\n",
       "45    TRUE      FALSE     FALSE\n",
       "46    TRUE      FALSE     FALSE\n",
       "48    TRUE      FALSE     FALSE\n",
       "49    TRUE      FALSE     FALSE\n",
       "50    TRUE      FALSE     FALSE\n",
       "52   FALSE       TRUE     FALSE\n",
       "53   FALSE       TRUE     FALSE\n",
       "54   FALSE       TRUE     FALSE\n",
       "56   FALSE       TRUE     FALSE\n",
       "57   FALSE       TRUE     FALSE\n",
       "58   FALSE       TRUE     FALSE\n",
       "59   FALSE       TRUE     FALSE\n",
       "60   FALSE       TRUE     FALSE\n",
       "62   FALSE       TRUE     FALSE\n",
       "63   FALSE       TRUE     FALSE\n",
       "65   FALSE       TRUE     FALSE\n",
       "66   FALSE       TRUE     FALSE\n",
       "68   FALSE       TRUE     FALSE\n",
       "70   FALSE       TRUE     FALSE\n",
       "73   FALSE       TRUE     FALSE\n",
       "75   FALSE       TRUE     FALSE\n",
       "80   FALSE       TRUE     FALSE\n",
       "82   FALSE       TRUE     FALSE\n",
       "83   FALSE       TRUE     FALSE\n",
       "84   FALSE       TRUE     FALSE\n",
       "87   FALSE       TRUE     FALSE\n",
       "91   FALSE       TRUE     FALSE\n",
       "92   FALSE       TRUE     FALSE\n",
       "93   FALSE       TRUE     FALSE\n",
       "94   FALSE       TRUE     FALSE\n",
       "96   FALSE       TRUE     FALSE\n",
       "97   FALSE       TRUE     FALSE\n",
       "99   FALSE       TRUE     FALSE\n",
       "100  FALSE       TRUE     FALSE\n",
       "103  FALSE      FALSE      TRUE\n",
       "105  FALSE      FALSE      TRUE\n",
       "107  FALSE      FALSE      TRUE\n",
       "109  FALSE      FALSE      TRUE\n",
       "110  FALSE      FALSE      TRUE\n",
       "111  FALSE      FALSE      TRUE\n",
       "113  FALSE      FALSE      TRUE\n",
       "114  FALSE      FALSE      TRUE\n",
       "116  FALSE      FALSE      TRUE\n",
       "117  FALSE      FALSE      TRUE\n",
       "118  FALSE      FALSE      TRUE\n",
       "119  FALSE      FALSE      TRUE\n",
       "121  FALSE      FALSE      TRUE\n",
       "122  FALSE      FALSE      TRUE\n",
       "123  FALSE      FALSE      TRUE\n",
       "124  FALSE      FALSE      TRUE\n",
       "126  FALSE      FALSE      TRUE\n",
       "127  FALSE      FALSE      TRUE\n",
       "128  FALSE      FALSE      TRUE\n",
       "129  FALSE      FALSE      TRUE\n",
       "130  FALSE      FALSE      TRUE\n",
       "131  FALSE      FALSE      TRUE\n",
       "133  FALSE      FALSE      TRUE\n",
       "134  FALSE      FALSE      TRUE\n",
       "135  FALSE      FALSE      TRUE\n",
       "136  FALSE      FALSE      TRUE\n",
       "137  FALSE      FALSE      TRUE\n",
       "138  FALSE      FALSE      TRUE\n",
       "139  FALSE      FALSE      TRUE\n",
       "140  FALSE      FALSE      TRUE\n",
       "141  FALSE      FALSE      TRUE\n",
       "142  FALSE      FALSE      TRUE\n",
       "144  FALSE      FALSE      TRUE\n",
       "146  FALSE      FALSE      TRUE\n",
       "147  FALSE      FALSE      TRUE\n",
       "148  FALSE      FALSE      TRUE\n",
       "149  FALSE      FALSE      TRUE\n",
       "\n",
       "$covariate\n",
       "    Sepal.Length Sepal.Width Petal.Length Petal.Width\n",
       "2            4.9         3.0          1.4         0.2\n",
       "3            4.7         3.2          1.3         0.2\n",
       "4            4.6         3.1          1.5         0.2\n",
       "7            4.6         3.4          1.4         0.3\n",
       "9            4.4         2.9          1.4         0.2\n",
       "10           4.9         3.1          1.5         0.1\n",
       "11           5.4         3.7          1.5         0.2\n",
       "12           4.8         3.4          1.6         0.2\n",
       "13           4.8         3.0          1.4         0.1\n",
       "15           5.8         4.0          1.2         0.2\n",
       "16           5.7         4.4          1.5         0.4\n",
       "17           5.4         3.9          1.3         0.4\n",
       "19           5.7         3.8          1.7         0.3\n",
       "20           5.1         3.8          1.5         0.3\n",
       "22           5.1         3.7          1.5         0.4\n",
       "24           5.1         3.3          1.7         0.5\n",
       "25           4.8         3.4          1.9         0.2\n",
       "27           5.0         3.4          1.6         0.4\n",
       "28           5.2         3.5          1.5         0.2\n",
       "29           5.2         3.4          1.4         0.2\n",
       "30           4.7         3.2          1.6         0.2\n",
       "31           4.8         3.1          1.6         0.2\n",
       "33           5.2         4.1          1.5         0.1\n",
       "35           4.9         3.1          1.5         0.2\n",
       "36           5.0         3.2          1.2         0.2\n",
       "38           4.9         3.6          1.4         0.1\n",
       "39           4.4         3.0          1.3         0.2\n",
       "41           5.0         3.5          1.3         0.3\n",
       "42           4.5         2.3          1.3         0.3\n",
       "43           4.4         3.2          1.3         0.2\n",
       "44           5.0         3.5          1.6         0.6\n",
       "45           5.1         3.8          1.9         0.4\n",
       "46           4.8         3.0          1.4         0.3\n",
       "48           4.6         3.2          1.4         0.2\n",
       "49           5.3         3.7          1.5         0.2\n",
       "50           5.0         3.3          1.4         0.2\n",
       "52           6.4         3.2          4.5         1.5\n",
       "53           6.9         3.1          4.9         1.5\n",
       "54           5.5         2.3          4.0         1.3\n",
       "56           5.7         2.8          4.5         1.3\n",
       "57           6.3         3.3          4.7         1.6\n",
       "58           4.9         2.4          3.3         1.0\n",
       "59           6.6         2.9          4.6         1.3\n",
       "60           5.2         2.7          3.9         1.4\n",
       "62           5.9         3.0          4.2         1.5\n",
       "63           6.0         2.2          4.0         1.0\n",
       "65           5.6         2.9          3.6         1.3\n",
       "66           6.7         3.1          4.4         1.4\n",
       "68           5.8         2.7          4.1         1.0\n",
       "70           5.6         2.5          3.9         1.1\n",
       "73           6.3         2.5          4.9         1.5\n",
       "75           6.4         2.9          4.3         1.3\n",
       "80           5.7         2.6          3.5         1.0\n",
       "82           5.5         2.4          3.7         1.0\n",
       "83           5.8         2.7          3.9         1.2\n",
       "84           6.0         2.7          5.1         1.6\n",
       "87           6.7         3.1          4.7         1.5\n",
       "91           5.5         2.6          4.4         1.2\n",
       "92           6.1         3.0          4.6         1.4\n",
       "93           5.8         2.6          4.0         1.2\n",
       "94           5.0         2.3          3.3         1.0\n",
       "96           5.7         3.0          4.2         1.2\n",
       "97           5.7         2.9          4.2         1.3\n",
       "99           5.1         2.5          3.0         1.1\n",
       "100          5.7         2.8          4.1         1.3\n",
       "103          7.1         3.0          5.9         2.1\n",
       "105          6.5         3.0          5.8         2.2\n",
       "107          4.9         2.5          4.5         1.7\n",
       "109          6.7         2.5          5.8         1.8\n",
       "110          7.2         3.6          6.1         2.5\n",
       "111          6.5         3.2          5.1         2.0\n",
       "113          6.8         3.0          5.5         2.1\n",
       "114          5.7         2.5          5.0         2.0\n",
       "116          6.4         3.2          5.3         2.3\n",
       "117          6.5         3.0          5.5         1.8\n",
       "118          7.7         3.8          6.7         2.2\n",
       "119          7.7         2.6          6.9         2.3\n",
       "121          6.9         3.2          5.7         2.3\n",
       "122          5.6         2.8          4.9         2.0\n",
       "123          7.7         2.8          6.7         2.0\n",
       "124          6.3         2.7          4.9         1.8\n",
       "126          7.2         3.2          6.0         1.8\n",
       "127          6.2         2.8          4.8         1.8\n",
       "128          6.1         3.0          4.9         1.8\n",
       "129          6.4         2.8          5.6         2.1\n",
       "130          7.2         3.0          5.8         1.6\n",
       "131          7.4         2.8          6.1         1.9\n",
       "133          6.4         2.8          5.6         2.2\n",
       "134          6.3         2.8          5.1         1.5\n",
       "135          6.1         2.6          5.6         1.4\n",
       "136          7.7         3.0          6.1         2.3\n",
       "137          6.3         3.4          5.6         2.4\n",
       "138          6.4         3.1          5.5         1.8\n",
       "139          6.0         3.0          4.8         1.8\n",
       "140          6.9         3.1          5.4         2.1\n",
       "141          6.7         3.1          5.6         2.4\n",
       "142          6.9         3.1          5.1         2.3\n",
       "144          6.8         3.2          5.9         2.3\n",
       "146          6.7         3.0          5.2         2.3\n",
       "147          6.3         2.5          5.0         1.9\n",
       "148          6.5         3.0          5.2         2.0\n",
       "149          6.2         3.4          5.4         2.3\n",
       "\n",
       "$model.list\n",
       "$model.list$response\n",
       "[1] \"setosa\"     \"versicolor\" \"virginica\" \n",
       "\n",
       "$model.list$variables\n",
       "[1] \"Sepal.Length\" \"Sepal.Width\"  \"Petal.Length\" \"Petal.Width\" \n",
       "\n",
       "\n",
       "$err.fct\n",
       "function (x, y) \n",
       "{\n",
       "    1/2 * (y - x)^2\n",
       "}\n",
       "<bytecode: 0x5586dd0155d0>\n",
       "<environment: 0x5586dd012418>\n",
       "attr(,\"type\")\n",
       "[1] \"sse\"\n",
       "\n",
       "$act.fct\n",
       "function (x) \n",
       "{\n",
       "    1/(1 + exp(-x))\n",
       "}\n",
       "<bytecode: 0x5586dd01a4f0>\n",
       "<environment: 0x5586dd016920>\n",
       "attr(,\"type\")\n",
       "[1] \"logistic\"\n"
      ]
     },
     "metadata": {},
     "output_type": "display_data"
    }
   ],
   "source": [
    "head(modelo)"
   ]
  },
  {
   "cell_type": "code",
   "execution_count": 16,
   "metadata": {
    "collapsed": false
   },
   "outputs": [
    {
     "data": {
      "text/html": [
       "'list'"
      ],
      "text/latex": [
       "'list'"
      ],
      "text/markdown": [
       "'list'"
      ],
      "text/plain": [
       "[1] \"list\""
      ]
     },
     "metadata": {},
     "output_type": "display_data"
    }
   ],
   "source": [
    "typeof(modelo)"
   ]
  },
  {
   "cell_type": "code",
   "execution_count": 17,
   "metadata": {
    "collapsed": false
   },
   "outputs": [],
   "source": [
    "## Testando o modelo\n",
    "resultado.test <- compute(modelo, dados_controle[,1:4]) # utilizamos\n",
    "                                        # as 4 primeiras colunas, que\n",
    "                                        # têm as variáveis de tamanho."
   ]
  },
  {
   "cell_type": "code",
   "execution_count": 18,
   "metadata": {
    "collapsed": true
   },
   "outputs": [
    {
     "data": {
      "text/html": [
       "<table>\n",
       "<caption>A matrix: 6 x 3 of type dbl</caption>\n",
       "<tbody>\n",
       "\t<tr><th scope=row>1</th><td>1.005636</td><td>-0.007894146</td><td>-0.0041108662</td></tr>\n",
       "\t<tr><th scope=row>5</th><td>1.010612</td><td>-0.007459218</td><td>-0.0032547155</td></tr>\n",
       "\t<tr><th scope=row>6</th><td>1.005753</td><td> 0.009143914</td><td>-0.0014575009</td></tr>\n",
       "\t<tr><th scope=row>8</th><td>1.000251</td><td>-0.001063525</td><td>-0.0038270775</td></tr>\n",
       "\t<tr><th scope=row>14</th><td>1.018504</td><td>-0.032724954</td><td> 0.0076824183</td></tr>\n",
       "\t<tr><th scope=row>18</th><td>1.006247</td><td>-0.006605113</td><td> 0.0003878863</td></tr>\n",
       "</tbody>\n",
       "</table>\n"
      ],
      "text/latex": [
       "A matrix: 6 x 3 of type dbl\n",
       "\\begin{tabular}{r|lll}\n",
       "\t1 & 1.005636 & -0.007894146 & -0.0041108662\\\\\n",
       "\t5 & 1.010612 & -0.007459218 & -0.0032547155\\\\\n",
       "\t6 & 1.005753 &  0.009143914 & -0.0014575009\\\\\n",
       "\t8 & 1.000251 & -0.001063525 & -0.0038270775\\\\\n",
       "\t14 & 1.018504 & -0.032724954 &  0.0076824183\\\\\n",
       "\t18 & 1.006247 & -0.006605113 &  0.0003878863\\\\\n",
       "\\end{tabular}\n"
      ],
      "text/markdown": [
       "\n",
       "A matrix: 6 x 3 of type dbl\n",
       "\n",
       "| 1 | 1.005636 | -0.007894146 | -0.0041108662 |\n",
       "| 5 | 1.010612 | -0.007459218 | -0.0032547155 |\n",
       "| 6 | 1.005753 |  0.009143914 | -0.0014575009 |\n",
       "| 8 | 1.000251 | -0.001063525 | -0.0038270775 |\n",
       "| 14 | 1.018504 | -0.032724954 |  0.0076824183 |\n",
       "| 18 | 1.006247 | -0.006605113 |  0.0003878863 |\n",
       "\n"
      ],
      "text/plain": [
       "   [,1]     [,2]         [,3]         \n",
       "1  1.005636 -0.007894146 -0.0041108662\n",
       "5  1.010612 -0.007459218 -0.0032547155\n",
       "6  1.005753  0.009143914 -0.0014575009\n",
       "8  1.000251 -0.001063525 -0.0038270775\n",
       "14 1.018504 -0.032724954  0.0076824183\n",
       "18 1.006247 -0.006605113  0.0003878863"
      ]
     },
     "metadata": {},
     "output_type": "display_data"
    }
   ],
   "source": [
    "#Probabilidades associadas à certeza e se ser um dos tipos de plantas\n",
    "head(resultado.test$net.result)"
   ]
  },
  {
   "cell_type": "code",
   "execution_count": 19,
   "metadata": {
    "collapsed": false
   },
   "outputs": [],
   "source": [
    "resultados <- as.data.frame(resultado.test$net.result)"
   ]
  },
  {
   "cell_type": "code",
   "execution_count": 20,
   "metadata": {
    "collapsed": true
   },
   "outputs": [
    {
     "data": {
      "text/html": [
       "<table>\n",
       "<caption>A data.frame: 6 x 3</caption>\n",
       "<thead>\n",
       "\t<tr><th></th><th scope=col>V1</th><th scope=col>V2</th><th scope=col>V3</th></tr>\n",
       "\t<tr><th></th><th scope=col>&lt;dbl&gt;</th><th scope=col>&lt;dbl&gt;</th><th scope=col>&lt;dbl&gt;</th></tr>\n",
       "</thead>\n",
       "<tbody>\n",
       "\t<tr><th scope=row>1</th><td>1.005636</td><td>-0.007894146</td><td>-0.0041108662</td></tr>\n",
       "\t<tr><th scope=row>5</th><td>1.010612</td><td>-0.007459218</td><td>-0.0032547155</td></tr>\n",
       "\t<tr><th scope=row>6</th><td>1.005753</td><td> 0.009143914</td><td>-0.0014575009</td></tr>\n",
       "\t<tr><th scope=row>8</th><td>1.000251</td><td>-0.001063525</td><td>-0.0038270775</td></tr>\n",
       "\t<tr><th scope=row>14</th><td>1.018504</td><td>-0.032724954</td><td> 0.0076824183</td></tr>\n",
       "\t<tr><th scope=row>18</th><td>1.006247</td><td>-0.006605113</td><td> 0.0003878863</td></tr>\n",
       "</tbody>\n",
       "</table>\n"
      ],
      "text/latex": [
       "A data.frame: 6 x 3\n",
       "\\begin{tabular}{r|lll}\n",
       "  & V1 & V2 & V3\\\\\n",
       "  & <dbl> & <dbl> & <dbl>\\\\\n",
       "\\hline\n",
       "\t1 & 1.005636 & -0.007894146 & -0.0041108662\\\\\n",
       "\t5 & 1.010612 & -0.007459218 & -0.0032547155\\\\\n",
       "\t6 & 1.005753 &  0.009143914 & -0.0014575009\\\\\n",
       "\t8 & 1.000251 & -0.001063525 & -0.0038270775\\\\\n",
       "\t14 & 1.018504 & -0.032724954 &  0.0076824183\\\\\n",
       "\t18 & 1.006247 & -0.006605113 &  0.0003878863\\\\\n",
       "\\end{tabular}\n"
      ],
      "text/markdown": [
       "\n",
       "A data.frame: 6 x 3\n",
       "\n",
       "| <!--/--> | V1 &lt;dbl&gt; | V2 &lt;dbl&gt; | V3 &lt;dbl&gt; |\n",
       "|---|---|---|---|\n",
       "| 1 | 1.005636 | -0.007894146 | -0.0041108662 |\n",
       "| 5 | 1.010612 | -0.007459218 | -0.0032547155 |\n",
       "| 6 | 1.005753 |  0.009143914 | -0.0014575009 |\n",
       "| 8 | 1.000251 | -0.001063525 | -0.0038270775 |\n",
       "| 14 | 1.018504 | -0.032724954 |  0.0076824183 |\n",
       "| 18 | 1.006247 | -0.006605113 |  0.0003878863 |\n",
       "\n"
      ],
      "text/plain": [
       "   V1       V2           V3           \n",
       "1  1.005636 -0.007894146 -0.0041108662\n",
       "5  1.010612 -0.007459218 -0.0032547155\n",
       "6  1.005753  0.009143914 -0.0014575009\n",
       "8  1.000251 -0.001063525 -0.0038270775\n",
       "14 1.018504 -0.032724954  0.0076824183\n",
       "18 1.006247 -0.006605113  0.0003878863"
      ]
     },
     "metadata": {},
     "output_type": "display_data"
    }
   ],
   "source": [
    "head(resultados)"
   ]
  },
  {
   "cell_type": "code",
   "execution_count": 21,
   "metadata": {
    "collapsed": true
   },
   "outputs": [
    {
     "data": {
      "text/html": [
       "<table>\n",
       "<caption>A data.frame: 6 x 3</caption>\n",
       "<thead>\n",
       "\t<tr><th></th><th scope=col>setosa</th><th scope=col>versicolor</th><th scope=col>virginica</th></tr>\n",
       "\t<tr><th></th><th scope=col>&lt;dbl&gt;</th><th scope=col>&lt;dbl&gt;</th><th scope=col>&lt;dbl&gt;</th></tr>\n",
       "</thead>\n",
       "<tbody>\n",
       "\t<tr><th scope=row>1</th><td>1.005636</td><td>-0.007894146</td><td>-0.0041108662</td></tr>\n",
       "\t<tr><th scope=row>5</th><td>1.010612</td><td>-0.007459218</td><td>-0.0032547155</td></tr>\n",
       "\t<tr><th scope=row>6</th><td>1.005753</td><td> 0.009143914</td><td>-0.0014575009</td></tr>\n",
       "\t<tr><th scope=row>8</th><td>1.000251</td><td>-0.001063525</td><td>-0.0038270775</td></tr>\n",
       "\t<tr><th scope=row>14</th><td>1.018504</td><td>-0.032724954</td><td> 0.0076824183</td></tr>\n",
       "\t<tr><th scope=row>18</th><td>1.006247</td><td>-0.006605113</td><td> 0.0003878863</td></tr>\n",
       "</tbody>\n",
       "</table>\n"
      ],
      "text/latex": [
       "A data.frame: 6 x 3\n",
       "\\begin{tabular}{r|lll}\n",
       "  & setosa & versicolor & virginica\\\\\n",
       "  & <dbl> & <dbl> & <dbl>\\\\\n",
       "\\hline\n",
       "\t1 & 1.005636 & -0.007894146 & -0.0041108662\\\\\n",
       "\t5 & 1.010612 & -0.007459218 & -0.0032547155\\\\\n",
       "\t6 & 1.005753 &  0.009143914 & -0.0014575009\\\\\n",
       "\t8 & 1.000251 & -0.001063525 & -0.0038270775\\\\\n",
       "\t14 & 1.018504 & -0.032724954 &  0.0076824183\\\\\n",
       "\t18 & 1.006247 & -0.006605113 &  0.0003878863\\\\\n",
       "\\end{tabular}\n"
      ],
      "text/markdown": [
       "\n",
       "A data.frame: 6 x 3\n",
       "\n",
       "| <!--/--> | setosa &lt;dbl&gt; | versicolor &lt;dbl&gt; | virginica &lt;dbl&gt; |\n",
       "|---|---|---|---|\n",
       "| 1 | 1.005636 | -0.007894146 | -0.0041108662 |\n",
       "| 5 | 1.010612 | -0.007459218 | -0.0032547155 |\n",
       "| 6 | 1.005753 |  0.009143914 | -0.0014575009 |\n",
       "| 8 | 1.000251 | -0.001063525 | -0.0038270775 |\n",
       "| 14 | 1.018504 | -0.032724954 |  0.0076824183 |\n",
       "| 18 | 1.006247 | -0.006605113 |  0.0003878863 |\n",
       "\n"
      ],
      "text/plain": [
       "   setosa   versicolor   virginica    \n",
       "1  1.005636 -0.007894146 -0.0041108662\n",
       "5  1.010612 -0.007459218 -0.0032547155\n",
       "6  1.005753  0.009143914 -0.0014575009\n",
       "8  1.000251 -0.001063525 -0.0038270775\n",
       "14 1.018504 -0.032724954  0.0076824183\n",
       "18 1.006247 -0.006605113  0.0003878863"
      ]
     },
     "metadata": {},
     "output_type": "display_data"
    }
   ],
   "source": [
    "# Alterando os nomes da tabela. Questão estética de visualização.\n",
    "\n",
    "names(resultados)[1] <- 'setosa'\n",
    "names(resultados)[2] <- 'versicolor'\n",
    "names(resultados)[3] <- 'virginica'\n",
    "head(resultados)"
   ]
  },
  {
   "cell_type": "code",
   "execution_count": 22,
   "metadata": {
    "collapsed": false
   },
   "outputs": [
    {
     "data": {
      "text/html": [
       "<table>\n",
       "<caption>A data.frame: 6 x 4</caption>\n",
       "<thead>\n",
       "\t<tr><th></th><th scope=col>setosa</th><th scope=col>versicolor</th><th scope=col>virginica</th><th scope=col>classe</th></tr>\n",
       "\t<tr><th></th><th scope=col>&lt;dbl&gt;</th><th scope=col>&lt;dbl&gt;</th><th scope=col>&lt;dbl&gt;</th><th scope=col>&lt;chr&gt;</th></tr>\n",
       "</thead>\n",
       "<tbody>\n",
       "\t<tr><th scope=row>1</th><td>1.005636</td><td>-0.007894146</td><td>-0.0041108662</td><td>setosa</td></tr>\n",
       "\t<tr><th scope=row>5</th><td>1.010612</td><td>-0.007459218</td><td>-0.0032547155</td><td>setosa</td></tr>\n",
       "\t<tr><th scope=row>6</th><td>1.005753</td><td> 0.009143914</td><td>-0.0014575009</td><td>setosa</td></tr>\n",
       "\t<tr><th scope=row>8</th><td>1.000251</td><td>-0.001063525</td><td>-0.0038270775</td><td>setosa</td></tr>\n",
       "\t<tr><th scope=row>14</th><td>1.018504</td><td>-0.032724954</td><td> 0.0076824183</td><td>setosa</td></tr>\n",
       "\t<tr><th scope=row>18</th><td>1.006247</td><td>-0.006605113</td><td> 0.0003878863</td><td>setosa</td></tr>\n",
       "</tbody>\n",
       "</table>\n"
      ],
      "text/latex": [
       "A data.frame: 6 x 4\n",
       "\\begin{tabular}{r|llll}\n",
       "  & setosa & versicolor & virginica & classe\\\\\n",
       "  & <dbl> & <dbl> & <dbl> & <chr>\\\\\n",
       "\\hline\n",
       "\t1 & 1.005636 & -0.007894146 & -0.0041108662 & setosa\\\\\n",
       "\t5 & 1.010612 & -0.007459218 & -0.0032547155 & setosa\\\\\n",
       "\t6 & 1.005753 &  0.009143914 & -0.0014575009 & setosa\\\\\n",
       "\t8 & 1.000251 & -0.001063525 & -0.0038270775 & setosa\\\\\n",
       "\t14 & 1.018504 & -0.032724954 &  0.0076824183 & setosa\\\\\n",
       "\t18 & 1.006247 & -0.006605113 &  0.0003878863 & setosa\\\\\n",
       "\\end{tabular}\n"
      ],
      "text/markdown": [
       "\n",
       "A data.frame: 6 x 4\n",
       "\n",
       "| <!--/--> | setosa &lt;dbl&gt; | versicolor &lt;dbl&gt; | virginica &lt;dbl&gt; | classe &lt;chr&gt; |\n",
       "|---|---|---|---|---|\n",
       "| 1 | 1.005636 | -0.007894146 | -0.0041108662 | setosa |\n",
       "| 5 | 1.010612 | -0.007459218 | -0.0032547155 | setosa |\n",
       "| 6 | 1.005753 |  0.009143914 | -0.0014575009 | setosa |\n",
       "| 8 | 1.000251 | -0.001063525 | -0.0038270775 | setosa |\n",
       "| 14 | 1.018504 | -0.032724954 |  0.0076824183 | setosa |\n",
       "| 18 | 1.006247 | -0.006605113 |  0.0003878863 | setosa |\n",
       "\n"
      ],
      "text/plain": [
       "   setosa   versicolor   virginica     classe\n",
       "1  1.005636 -0.007894146 -0.0041108662 setosa\n",
       "5  1.010612 -0.007459218 -0.0032547155 setosa\n",
       "6  1.005753  0.009143914 -0.0014575009 setosa\n",
       "8  1.000251 -0.001063525 -0.0038270775 setosa\n",
       "14 1.018504 -0.032724954  0.0076824183 setosa\n",
       "18 1.006247 -0.006605113  0.0003878863 setosa"
      ]
     },
     "metadata": {},
     "output_type": "display_data"
    }
   ],
   "source": [
    "# Associamos mais uma nova coluna, apontando como a rede treinada classificaria os casos.\n",
    "\n",
    "#Metodo de escolha: maior probabilidade-associada\n",
    "\n",
    "# Explicação da sintaxe:\n",
    "## nova coluna se chama \"classe\", recebe o nome das colunas \"colnames(...)\", quando o valor é máximo. \"[max.col(resultados[,1:3], ties.method='first')]\"\n",
    "resultados$classe <- colnames(resultados[,1:3])[max.col(resultados[,1:3], ties.method='first')]\n",
    "## Podemos observar como a tabela ficou.\n",
    "head(resultados)"
   ]
  },
  {
   "cell_type": "code",
   "execution_count": 23,
   "metadata": {
    "collapsed": false
   },
   "outputs": [
    {
     "data": {
      "text/html": [
       "<style>\n",
       ".list-inline {list-style: none; margin:0; padding: 0}\n",
       ".list-inline>li {display: inline-block}\n",
       ".list-inline>li:not(:last-child)::after {content: \"\\00b7\"; padding: 0 .5ex}\n",
       "</style>\n",
       "<ol class=list-inline><li>'setosa'</li><li>'setosa'</li><li>'setosa'</li><li>'setosa'</li><li>'setosa'</li><li>'setosa'</li></ol>\n"
      ],
      "text/latex": [
       "\\begin{enumerate*}\n",
       "\\item 'setosa'\n",
       "\\item 'setosa'\n",
       "\\item 'setosa'\n",
       "\\item 'setosa'\n",
       "\\item 'setosa'\n",
       "\\item 'setosa'\n",
       "\\end{enumerate*}\n"
      ],
      "text/markdown": [
       "1. 'setosa'\n",
       "2. 'setosa'\n",
       "3. 'setosa'\n",
       "4. 'setosa'\n",
       "5. 'setosa'\n",
       "6. 'setosa'\n",
       "\n",
       "\n"
      ],
      "text/plain": [
       "[1] \"setosa\" \"setosa\" \"setosa\" \"setosa\" \"setosa\" \"setosa\""
      ]
     },
     "metadata": {},
     "output_type": "display_data"
    }
   ],
   "source": [
    "head(resultados$class)"
   ]
  },
  {
   "cell_type": "code",
   "execution_count": 24,
   "metadata": {
    "collapsed": true
   },
   "outputs": [
    {
     "data": {
      "text/html": [
       "<style>\n",
       ".list-inline {list-style: none; margin:0; padding: 0}\n",
       ".list-inline>li {display: inline-block}\n",
       ".list-inline>li:not(:last-child)::after {content: \"\\00b7\"; padding: 0 .5ex}\n",
       "</style>\n",
       "<ol class=list-inline><li>setosa</li><li>setosa</li><li>setosa</li><li>setosa</li><li>setosa</li><li>setosa</li></ol>\n",
       "\n",
       "<details>\n",
       "\t<summary style=display:list-item;cursor:pointer>\n",
       "\t\t<strong>Levels</strong>:\n",
       "\t</summary>\n",
       "\t<style>\n",
       "\t.list-inline {list-style: none; margin:0; padding: 0}\n",
       "\t.list-inline>li {display: inline-block}\n",
       "\t.list-inline>li:not(:last-child)::after {content: \"\\00b7\"; padding: 0 .5ex}\n",
       "\t</style>\n",
       "\t<ol class=list-inline><li>'setosa'</li><li>'versicolor'</li><li>'virginica'</li></ol>\n",
       "</details>"
      ],
      "text/latex": [
       "\\begin{enumerate*}\n",
       "\\item setosa\n",
       "\\item setosa\n",
       "\\item setosa\n",
       "\\item setosa\n",
       "\\item setosa\n",
       "\\item setosa\n",
       "\\end{enumerate*}\n",
       "\n",
       "\\emph{Levels}: \\begin{enumerate*}\n",
       "\\item 'setosa'\n",
       "\\item 'versicolor'\n",
       "\\item 'virginica'\n",
       "\\end{enumerate*}\n"
      ],
      "text/markdown": [
       "1. setosa\n",
       "2. setosa\n",
       "3. setosa\n",
       "4. setosa\n",
       "5. setosa\n",
       "6. setosa\n",
       "\n",
       "\n",
       "\n",
       "**Levels**: 1. 'setosa'\n",
       "2. 'versicolor'\n",
       "3. 'virginica'\n",
       "\n",
       "\n"
      ],
      "text/plain": [
       "[1] setosa setosa setosa setosa setosa setosa\n",
       "Levels: setosa versicolor virginica"
      ]
     },
     "metadata": {},
     "output_type": "display_data"
    }
   ],
   "source": [
    "#Note que os dados controle estao nesse formato. O que nos possibilita\n",
    "#construir uma matrix de confusao\n",
    "head(dados_controle$Species)"
   ]
  },
  {
   "cell_type": "code",
   "execution_count": 25,
   "metadata": {
    "collapsed": false
   },
   "outputs": [],
   "source": [
    "#matriz de confusão\n",
    "confusao <- table(resultados$class, dados_controle$Species)\n",
    "grau.acerto <- (sum(diag(confusao)))*100 / sum(confusao)"
   ]
  },
  {
   "cell_type": "code",
   "execution_count": 26,
   "metadata": {
    "collapsed": false
   },
   "outputs": [
    {
     "data": {
      "text/plain": [
       "            \n",
       "             setosa versicolor virginica\n",
       "  setosa         14          0         0\n",
       "  versicolor      0         19         1\n",
       "  virginica       0          2        12"
      ]
     },
     "metadata": {},
     "output_type": "display_data"
    }
   ],
   "source": [
    "confusao"
   ]
  },
  {
   "cell_type": "code",
   "execution_count": 27,
   "metadata": {
    "collapsed": false
   },
   "outputs": [
    {
     "data": {
      "text/html": [
       "93.75"
      ],
      "text/latex": [
       "93.75"
      ],
      "text/markdown": [
       "93.75"
      ],
      "text/plain": [
       "[1] 93.75"
      ]
     },
     "metadata": {},
     "output_type": "display_data"
    }
   ],
   "source": [
    "grau.acerto"
   ]
  }
 ],
 "metadata": {
  "kernelspec": {
   "argv": [
    "/usr/lib64/R/bin/R",
    "--slave",
    "-e",
    "IRkernel::main()",
    "--args",
    "{connection_file}"
   ],
   "display_name": "R",
   "env": null,
   "interrupt_mode": "signal",
   "language": "R",
   "metadata": null,
   "name": "ir"
  },
  "name": "Iris-RN.ipynb"
 },
 "nbformat": 4,
 "nbformat_minor": 4
}
