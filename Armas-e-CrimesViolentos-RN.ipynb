{
 "cells": [
  {
   "cell_type": "code",
   "execution_count": 1,
   "metadata": {
    "collapsed": false
   },
   "outputs": [],
   "source": [
    "library(neuralnet)"
   ]
  },
  {
   "cell_type": "code",
   "execution_count": 2,
   "metadata": {
    "collapsed": false
   },
   "outputs": [
    {
     "data": {
      "text/plain": [
       "     Murder          Assault         UrbanPop          Rape      \n",
       " Min.   : 0.800   Min.   : 45.0   Min.   :32.00   Min.   : 7.30  \n",
       " 1st Qu.: 4.075   1st Qu.:109.0   1st Qu.:54.50   1st Qu.:15.07  \n",
       " Median : 7.250   Median :159.0   Median :66.00   Median :20.10  \n",
       " Mean   : 7.788   Mean   :170.8   Mean   :65.54   Mean   :21.23  \n",
       " 3rd Qu.:11.250   3rd Qu.:249.0   3rd Qu.:77.75   3rd Qu.:26.18  \n",
       " Max.   :17.400   Max.   :337.0   Max.   :91.00   Max.   :46.00  "
      ]
     },
     "metadata": {},
     "output_type": "display_data"
    }
   ],
   "source": [
    "# Dados sobre crimes violentos, 1975, por 100,000 habitantes, por estado norte americano\n",
    "summary(USArrests)"
   ]
  },
  {
   "cell_type": "code",
   "execution_count": 3,
   "metadata": {
    "collapsed": false
   },
   "outputs": [],
   "source": [
    "mymatrix <- USArrests"
   ]
  },
  {
   "cell_type": "code",
   "execution_count": 4,
   "metadata": {
    "collapsed": false
   },
   "outputs": [],
   "source": [
    "mymatrix['Armas'] <- NA"
   ]
  },
  {
   "cell_type": "code",
   "execution_count": 5,
   "metadata": {
    "collapsed": false
   },
   "outputs": [
    {
     "data": {
      "text/html": [
       "<table>\n",
       "<caption>A data.frame: 50 x 5</caption>\n",
       "<thead>\n",
       "\t<tr><th></th><th scope=col>Murder</th><th scope=col>Assault</th><th scope=col>UrbanPop</th><th scope=col>Rape</th><th scope=col>Armas</th></tr>\n",
       "\t<tr><th></th><th scope=col>&lt;dbl&gt;</th><th scope=col>&lt;int&gt;</th><th scope=col>&lt;int&gt;</th><th scope=col>&lt;dbl&gt;</th><th scope=col>&lt;dbl&gt;</th></tr>\n",
       "</thead>\n",
       "<tbody>\n",
       "\t<tr><th scope=row>Alabama</th><td>13.2</td><td>236</td><td>58</td><td>21.2</td><td>4</td></tr>\n",
       "\t<tr><th scope=row>Alaska</th><td>10.0</td><td>263</td><td>48</td><td>44.5</td><td>2</td></tr>\n",
       "\t<tr><th scope=row>Arizona</th><td> 8.1</td><td>294</td><td>80</td><td>31.0</td><td>5</td></tr>\n",
       "\t<tr><th scope=row>Arkansas</th><td> 8.8</td><td>190</td><td>50</td><td>19.5</td><td>5</td></tr>\n",
       "\t<tr><th scope=row>California</th><td> 9.0</td><td>276</td><td>91</td><td>40.6</td><td>3</td></tr>\n",
       "\t<tr><th scope=row>Colorado</th><td> 7.9</td><td>204</td><td>78</td><td>38.7</td><td>2</td></tr>\n",
       "\t<tr><th scope=row>Connecticut</th><td> 3.3</td><td>110</td><td>77</td><td>11.1</td><td>2</td></tr>\n",
       "\t<tr><th scope=row>Delaware</th><td> 5.9</td><td>238</td><td>72</td><td>15.8</td><td>0</td></tr>\n",
       "\t<tr><th scope=row>Florida</th><td>15.4</td><td>335</td><td>80</td><td>31.9</td><td>3</td></tr>\n",
       "\t<tr><th scope=row>Georgia</th><td>17.4</td><td>211</td><td>60</td><td>25.8</td><td>4</td></tr>\n",
       "\t<tr><th scope=row>Hawaii</th><td> 5.3</td><td> 46</td><td>83</td><td>20.2</td><td>0</td></tr>\n",
       "\t<tr><th scope=row>Idaho</th><td> 2.6</td><td>120</td><td>54</td><td>14.2</td><td>5</td></tr>\n",
       "\t<tr><th scope=row>Illinois</th><td>10.4</td><td>249</td><td>83</td><td>24.0</td><td>3</td></tr>\n",
       "\t<tr><th scope=row>Indiana</th><td> 7.2</td><td>113</td><td>65</td><td>21.0</td><td>2</td></tr>\n",
       "\t<tr><th scope=row>Iowa</th><td> 2.2</td><td> 56</td><td>57</td><td>11.3</td><td>5</td></tr>\n",
       "\t<tr><th scope=row>Kansas</th><td> 6.0</td><td>115</td><td>66</td><td>18.0</td><td>3</td></tr>\n",
       "\t<tr><th scope=row>Kentucky</th><td> 9.7</td><td>109</td><td>52</td><td>16.3</td><td>3</td></tr>\n",
       "\t<tr><th scope=row>Louisiana</th><td>15.4</td><td>249</td><td>66</td><td>22.2</td><td>3</td></tr>\n",
       "\t<tr><th scope=row>Maine</th><td> 2.1</td><td> 83</td><td>51</td><td> 7.8</td><td>2</td></tr>\n",
       "\t<tr><th scope=row>Maryland</th><td>11.3</td><td>300</td><td>67</td><td>27.8</td><td>1</td></tr>\n",
       "\t<tr><th scope=row>Massachusetts</th><td> 4.4</td><td>149</td><td>85</td><td>16.3</td><td>2</td></tr>\n",
       "\t<tr><th scope=row>Michigan</th><td>12.1</td><td>255</td><td>74</td><td>35.1</td><td>2</td></tr>\n",
       "\t<tr><th scope=row>Minnesota</th><td> 2.7</td><td> 72</td><td>66</td><td>14.9</td><td>4</td></tr>\n",
       "\t<tr><th scope=row>Mississippi</th><td>16.1</td><td>259</td><td>44</td><td>17.1</td><td>4</td></tr>\n",
       "\t<tr><th scope=row>Missouri</th><td> 9.0</td><td>178</td><td>70</td><td>28.2</td><td>4</td></tr>\n",
       "\t<tr><th scope=row>Montana</th><td> 6.0</td><td>109</td><td>53</td><td>16.4</td><td>2</td></tr>\n",
       "\t<tr><th scope=row>Nebraska</th><td> 4.3</td><td>102</td><td>62</td><td>16.5</td><td>1</td></tr>\n",
       "\t<tr><th scope=row>Nevada</th><td>12.2</td><td>252</td><td>81</td><td>46.0</td><td>1</td></tr>\n",
       "\t<tr><th scope=row>New Hampshire</th><td> 2.1</td><td> 57</td><td>56</td><td> 9.5</td><td>5</td></tr>\n",
       "\t<tr><th scope=row>New Jersey</th><td> 7.4</td><td>159</td><td>89</td><td>18.8</td><td>0</td></tr>\n",
       "\t<tr><th scope=row>New Mexico</th><td>11.4</td><td>285</td><td>70</td><td>32.1</td><td>1</td></tr>\n",
       "\t<tr><th scope=row>New York</th><td>11.1</td><td>254</td><td>86</td><td>26.1</td><td>2</td></tr>\n",
       "\t<tr><th scope=row>North Carolina</th><td>13.0</td><td>337</td><td>45</td><td>16.1</td><td>3</td></tr>\n",
       "\t<tr><th scope=row>North Dakota</th><td> 0.8</td><td> 45</td><td>44</td><td> 7.3</td><td>2</td></tr>\n",
       "\t<tr><th scope=row>Ohio</th><td> 7.3</td><td>120</td><td>75</td><td>21.4</td><td>3</td></tr>\n",
       "\t<tr><th scope=row>Oklahoma</th><td> 6.6</td><td>151</td><td>68</td><td>20.0</td><td>2</td></tr>\n",
       "\t<tr><th scope=row>Oregon</th><td> 4.9</td><td>159</td><td>67</td><td>29.3</td><td>3</td></tr>\n",
       "\t<tr><th scope=row>Pennsylvania</th><td> 6.3</td><td>106</td><td>72</td><td>14.9</td><td>3</td></tr>\n",
       "\t<tr><th scope=row>Rhode Island</th><td> 3.4</td><td>174</td><td>87</td><td> 8.3</td><td>0</td></tr>\n",
       "\t<tr><th scope=row>South Carolina</th><td>14.4</td><td>279</td><td>48</td><td>22.5</td><td>4</td></tr>\n",
       "\t<tr><th scope=row>South Dakota</th><td> 3.8</td><td> 86</td><td>45</td><td>12.8</td><td>3</td></tr>\n",
       "\t<tr><th scope=row>Tennessee</th><td>13.2</td><td>188</td><td>59</td><td>26.9</td><td>3</td></tr>\n",
       "\t<tr><th scope=row>Texas</th><td>12.7</td><td>201</td><td>80</td><td>25.5</td><td>5</td></tr>\n",
       "\t<tr><th scope=row>Utah</th><td> 3.2</td><td>120</td><td>80</td><td>22.9</td><td>4</td></tr>\n",
       "\t<tr><th scope=row>Vermont</th><td> 2.2</td><td> 48</td><td>32</td><td>11.2</td><td>1</td></tr>\n",
       "\t<tr><th scope=row>Virginia</th><td> 8.5</td><td>156</td><td>63</td><td>20.7</td><td>3</td></tr>\n",
       "\t<tr><th scope=row>Washington</th><td> 4.0</td><td>145</td><td>73</td><td>26.2</td><td>2</td></tr>\n",
       "\t<tr><th scope=row>West Virginia</th><td> 5.7</td><td> 81</td><td>39</td><td> 9.3</td><td>2</td></tr>\n",
       "\t<tr><th scope=row>Wisconsin</th><td> 2.6</td><td> 53</td><td>66</td><td>10.8</td><td>2</td></tr>\n",
       "\t<tr><th scope=row>Wyoming</th><td> 6.8</td><td>161</td><td>60</td><td>15.6</td><td>3</td></tr>\n",
       "</tbody>\n",
       "</table>\n"
      ],
      "text/latex": [
       "A data.frame: 50 x 5\n",
       "\\begin{tabular}{r|lllll}\n",
       "  & Murder & Assault & UrbanPop & Rape & Armas\\\\\n",
       "  & <dbl> & <int> & <int> & <dbl> & <dbl>\\\\\n",
       "\\hline\n",
       "\tAlabama & 13.2 & 236 & 58 & 21.2 & 4\\\\\n",
       "\tAlaska & 10.0 & 263 & 48 & 44.5 & 2\\\\\n",
       "\tArizona &  8.1 & 294 & 80 & 31.0 & 5\\\\\n",
       "\tArkansas &  8.8 & 190 & 50 & 19.5 & 5\\\\\n",
       "\tCalifornia &  9.0 & 276 & 91 & 40.6 & 3\\\\\n",
       "\tColorado &  7.9 & 204 & 78 & 38.7 & 2\\\\\n",
       "\tConnecticut &  3.3 & 110 & 77 & 11.1 & 2\\\\\n",
       "\tDelaware &  5.9 & 238 & 72 & 15.8 & 0\\\\\n",
       "\tFlorida & 15.4 & 335 & 80 & 31.9 & 3\\\\\n",
       "\tGeorgia & 17.4 & 211 & 60 & 25.8 & 4\\\\\n",
       "\tHawaii &  5.3 &  46 & 83 & 20.2 & 0\\\\\n",
       "\tIdaho &  2.6 & 120 & 54 & 14.2 & 5\\\\\n",
       "\tIllinois & 10.4 & 249 & 83 & 24.0 & 3\\\\\n",
       "\tIndiana &  7.2 & 113 & 65 & 21.0 & 2\\\\\n",
       "\tIowa &  2.2 &  56 & 57 & 11.3 & 5\\\\\n",
       "\tKansas &  6.0 & 115 & 66 & 18.0 & 3\\\\\n",
       "\tKentucky &  9.7 & 109 & 52 & 16.3 & 3\\\\\n",
       "\tLouisiana & 15.4 & 249 & 66 & 22.2 & 3\\\\\n",
       "\tMaine &  2.1 &  83 & 51 &  7.8 & 2\\\\\n",
       "\tMaryland & 11.3 & 300 & 67 & 27.8 & 1\\\\\n",
       "\tMassachusetts &  4.4 & 149 & 85 & 16.3 & 2\\\\\n",
       "\tMichigan & 12.1 & 255 & 74 & 35.1 & 2\\\\\n",
       "\tMinnesota &  2.7 &  72 & 66 & 14.9 & 4\\\\\n",
       "\tMississippi & 16.1 & 259 & 44 & 17.1 & 4\\\\\n",
       "\tMissouri &  9.0 & 178 & 70 & 28.2 & 4\\\\\n",
       "\tMontana &  6.0 & 109 & 53 & 16.4 & 2\\\\\n",
       "\tNebraska &  4.3 & 102 & 62 & 16.5 & 1\\\\\n",
       "\tNevada & 12.2 & 252 & 81 & 46.0 & 1\\\\\n",
       "\tNew Hampshire &  2.1 &  57 & 56 &  9.5 & 5\\\\\n",
       "\tNew Jersey &  7.4 & 159 & 89 & 18.8 & 0\\\\\n",
       "\tNew Mexico & 11.4 & 285 & 70 & 32.1 & 1\\\\\n",
       "\tNew York & 11.1 & 254 & 86 & 26.1 & 2\\\\\n",
       "\tNorth Carolina & 13.0 & 337 & 45 & 16.1 & 3\\\\\n",
       "\tNorth Dakota &  0.8 &  45 & 44 &  7.3 & 2\\\\\n",
       "\tOhio &  7.3 & 120 & 75 & 21.4 & 3\\\\\n",
       "\tOklahoma &  6.6 & 151 & 68 & 20.0 & 2\\\\\n",
       "\tOregon &  4.9 & 159 & 67 & 29.3 & 3\\\\\n",
       "\tPennsylvania &  6.3 & 106 & 72 & 14.9 & 3\\\\\n",
       "\tRhode Island &  3.4 & 174 & 87 &  8.3 & 0\\\\\n",
       "\tSouth Carolina & 14.4 & 279 & 48 & 22.5 & 4\\\\\n",
       "\tSouth Dakota &  3.8 &  86 & 45 & 12.8 & 3\\\\\n",
       "\tTennessee & 13.2 & 188 & 59 & 26.9 & 3\\\\\n",
       "\tTexas & 12.7 & 201 & 80 & 25.5 & 5\\\\\n",
       "\tUtah &  3.2 & 120 & 80 & 22.9 & 4\\\\\n",
       "\tVermont &  2.2 &  48 & 32 & 11.2 & 1\\\\\n",
       "\tVirginia &  8.5 & 156 & 63 & 20.7 & 3\\\\\n",
       "\tWashington &  4.0 & 145 & 73 & 26.2 & 2\\\\\n",
       "\tWest Virginia &  5.7 &  81 & 39 &  9.3 & 2\\\\\n",
       "\tWisconsin &  2.6 &  53 & 66 & 10.8 & 2\\\\\n",
       "\tWyoming &  6.8 & 161 & 60 & 15.6 & 3\\\\\n",
       "\\end{tabular}\n"
      ],
      "text/markdown": [
       "\n",
       "A data.frame: 50 x 5\n",
       "\n",
       "| <!--/--> | Murder &lt;dbl&gt; | Assault &lt;int&gt; | UrbanPop &lt;int&gt; | Rape &lt;dbl&gt; | Armas &lt;dbl&gt; |\n",
       "|---|---|---|---|---|---|\n",
       "| Alabama | 13.2 | 236 | 58 | 21.2 | 4 |\n",
       "| Alaska | 10.0 | 263 | 48 | 44.5 | 2 |\n",
       "| Arizona |  8.1 | 294 | 80 | 31.0 | 5 |\n",
       "| Arkansas |  8.8 | 190 | 50 | 19.5 | 5 |\n",
       "| California |  9.0 | 276 | 91 | 40.6 | 3 |\n",
       "| Colorado |  7.9 | 204 | 78 | 38.7 | 2 |\n",
       "| Connecticut |  3.3 | 110 | 77 | 11.1 | 2 |\n",
       "| Delaware |  5.9 | 238 | 72 | 15.8 | 0 |\n",
       "| Florida | 15.4 | 335 | 80 | 31.9 | 3 |\n",
       "| Georgia | 17.4 | 211 | 60 | 25.8 | 4 |\n",
       "| Hawaii |  5.3 |  46 | 83 | 20.2 | 0 |\n",
       "| Idaho |  2.6 | 120 | 54 | 14.2 | 5 |\n",
       "| Illinois | 10.4 | 249 | 83 | 24.0 | 3 |\n",
       "| Indiana |  7.2 | 113 | 65 | 21.0 | 2 |\n",
       "| Iowa |  2.2 |  56 | 57 | 11.3 | 5 |\n",
       "| Kansas |  6.0 | 115 | 66 | 18.0 | 3 |\n",
       "| Kentucky |  9.7 | 109 | 52 | 16.3 | 3 |\n",
       "| Louisiana | 15.4 | 249 | 66 | 22.2 | 3 |\n",
       "| Maine |  2.1 |  83 | 51 |  7.8 | 2 |\n",
       "| Maryland | 11.3 | 300 | 67 | 27.8 | 1 |\n",
       "| Massachusetts |  4.4 | 149 | 85 | 16.3 | 2 |\n",
       "| Michigan | 12.1 | 255 | 74 | 35.1 | 2 |\n",
       "| Minnesota |  2.7 |  72 | 66 | 14.9 | 4 |\n",
       "| Mississippi | 16.1 | 259 | 44 | 17.1 | 4 |\n",
       "| Missouri |  9.0 | 178 | 70 | 28.2 | 4 |\n",
       "| Montana |  6.0 | 109 | 53 | 16.4 | 2 |\n",
       "| Nebraska |  4.3 | 102 | 62 | 16.5 | 1 |\n",
       "| Nevada | 12.2 | 252 | 81 | 46.0 | 1 |\n",
       "| New Hampshire |  2.1 |  57 | 56 |  9.5 | 5 |\n",
       "| New Jersey |  7.4 | 159 | 89 | 18.8 | 0 |\n",
       "| New Mexico | 11.4 | 285 | 70 | 32.1 | 1 |\n",
       "| New York | 11.1 | 254 | 86 | 26.1 | 2 |\n",
       "| North Carolina | 13.0 | 337 | 45 | 16.1 | 3 |\n",
       "| North Dakota |  0.8 |  45 | 44 |  7.3 | 2 |\n",
       "| Ohio |  7.3 | 120 | 75 | 21.4 | 3 |\n",
       "| Oklahoma |  6.6 | 151 | 68 | 20.0 | 2 |\n",
       "| Oregon |  4.9 | 159 | 67 | 29.3 | 3 |\n",
       "| Pennsylvania |  6.3 | 106 | 72 | 14.9 | 3 |\n",
       "| Rhode Island |  3.4 | 174 | 87 |  8.3 | 0 |\n",
       "| South Carolina | 14.4 | 279 | 48 | 22.5 | 4 |\n",
       "| South Dakota |  3.8 |  86 | 45 | 12.8 | 3 |\n",
       "| Tennessee | 13.2 | 188 | 59 | 26.9 | 3 |\n",
       "| Texas | 12.7 | 201 | 80 | 25.5 | 5 |\n",
       "| Utah |  3.2 | 120 | 80 | 22.9 | 4 |\n",
       "| Vermont |  2.2 |  48 | 32 | 11.2 | 1 |\n",
       "| Virginia |  8.5 | 156 | 63 | 20.7 | 3 |\n",
       "| Washington |  4.0 | 145 | 73 | 26.2 | 2 |\n",
       "| West Virginia |  5.7 |  81 | 39 |  9.3 | 2 |\n",
       "| Wisconsin |  2.6 |  53 | 66 | 10.8 | 2 |\n",
       "| Wyoming |  6.8 | 161 | 60 | 15.6 | 3 |\n",
       "\n"
      ],
      "text/plain": [
       "               Murder Assault UrbanPop Rape Armas\n",
       "Alabama        13.2   236     58       21.2 4    \n",
       "Alaska         10.0   263     48       44.5 2    \n",
       "Arizona         8.1   294     80       31.0 5    \n",
       "Arkansas        8.8   190     50       19.5 5    \n",
       "California      9.0   276     91       40.6 3    \n",
       "Colorado        7.9   204     78       38.7 2    \n",
       "Connecticut     3.3   110     77       11.1 2    \n",
       "Delaware        5.9   238     72       15.8 0    \n",
       "Florida        15.4   335     80       31.9 3    \n",
       "Georgia        17.4   211     60       25.8 4    \n",
       "Hawaii          5.3    46     83       20.2 0    \n",
       "Idaho           2.6   120     54       14.2 5    \n",
       "Illinois       10.4   249     83       24.0 3    \n",
       "Indiana         7.2   113     65       21.0 2    \n",
       "Iowa            2.2    56     57       11.3 5    \n",
       "Kansas          6.0   115     66       18.0 3    \n",
       "Kentucky        9.7   109     52       16.3 3    \n",
       "Louisiana      15.4   249     66       22.2 3    \n",
       "Maine           2.1    83     51        7.8 2    \n",
       "Maryland       11.3   300     67       27.8 1    \n",
       "Massachusetts   4.4   149     85       16.3 2    \n",
       "Michigan       12.1   255     74       35.1 2    \n",
       "Minnesota       2.7    72     66       14.9 4    \n",
       "Mississippi    16.1   259     44       17.1 4    \n",
       "Missouri        9.0   178     70       28.2 4    \n",
       "Montana         6.0   109     53       16.4 2    \n",
       "Nebraska        4.3   102     62       16.5 1    \n",
       "Nevada         12.2   252     81       46.0 1    \n",
       "New Hampshire   2.1    57     56        9.5 5    \n",
       "New Jersey      7.4   159     89       18.8 0    \n",
       "New Mexico     11.4   285     70       32.1 1    \n",
       "New York       11.1   254     86       26.1 2    \n",
       "North Carolina 13.0   337     45       16.1 3    \n",
       "North Dakota    0.8    45     44        7.3 2    \n",
       "Ohio            7.3   120     75       21.4 3    \n",
       "Oklahoma        6.6   151     68       20.0 2    \n",
       "Oregon          4.9   159     67       29.3 3    \n",
       "Pennsylvania    6.3   106     72       14.9 3    \n",
       "Rhode Island    3.4   174     87        8.3 0    \n",
       "South Carolina 14.4   279     48       22.5 4    \n",
       "South Dakota    3.8    86     45       12.8 3    \n",
       "Tennessee      13.2   188     59       26.9 3    \n",
       "Texas          12.7   201     80       25.5 5    \n",
       "Utah            3.2   120     80       22.9 4    \n",
       "Vermont         2.2    48     32       11.2 1    \n",
       "Virginia        8.5   156     63       20.7 3    \n",
       "Washington      4.0   145     73       26.2 2    \n",
       "West Virginia   5.7    81     39        9.3 2    \n",
       "Wisconsin       2.6    53     66       10.8 2    \n",
       "Wyoming         6.8   161     60       15.6 3    "
      ]
     },
     "metadata": {},
     "output_type": "display_data"
    }
   ],
   "source": [
    "# 0-5; 0-1 dark red; 2 light red; || 3 light blue; 4-5 dark blue \n",
    "mymatrix[1,5] <- 4 #Alabama \n",
    "mymatrix[2,5] <- 2 #Alaska\n",
    "mymatrix[3,5] <- 5 #Arizona\n",
    "mymatrix[4,5] <- 5 #Arkansas\n",
    "mymatrix[5,5] <- 3 #California\n",
    "mymatrix[6,5] <- 2 #Colorado\n",
    "mymatrix[7,5] <- 2 #Connecticut\n",
    "mymatrix[8,5] <- 0 #Delaware\n",
    "mymatrix[9,5] <- 3 #Florida\n",
    "mymatrix[10,5] <- 4 #Georgia\n",
    "mymatrix[11,5] <- 0 #Hawaii\n",
    "mymatrix[12,5] <- 5 #Idaho\n",
    "mymatrix[13,5] <- 3 #Illinois\n",
    "mymatrix[14,5] <- 2 #Indiana\n",
    "#########################\n",
    "mymatrix[15,5] <- 5 #Iowa\n",
    "mymatrix[16,5] <- 3 #Kansas\n",
    "mymatrix[17,5] <- 3 #Kentucky\n",
    "mymatrix[18,5] <- 3 #Louisiana\n",
    "mymatrix[19,5] <- 2 #Maine\n",
    "mymatrix[20,5] <- 1 #Maryland\n",
    "mymatrix[21,5] <- 2 #Massachusetts\n",
    "mymatrix[22,5] <- 2 #Michigan\n",
    "mymatrix[23,5] <- 4 #Minnesota\n",
    "mymatrix[24,5] <- 4 #Mississippi\n",
    "mymatrix[25,5] <- 4 #Missouri\n",
    "mymatrix[26,5] <- 2 #Montana\n",
    "mymatrix[27,5] <- 1 #Nebraska\n",
    "mymatrix[28,5] <- 1 #Nevada\n",
    "mymatrix[29,5] <- 5 #New Hampshire\n",
    "mymatrix[30,5] <- 0 #New Jersey\n",
    "mymatrix[31,5] <- 1 #New Mexico\n",
    "mymatrix[32,5] <- 2 #New York\n",
    "mymatrix[33,5] <- 3 #North Carolina\n",
    "mymatrix[34,5] <- 2 #North Dakota\n",
    "mymatrix[35,5] <- 3 #Ohio\n",
    "mymatrix[36,5] <- 2 #Oklahoma\n",
    "mymatrix[37,5] <- 3 #Oregon\n",
    "mymatrix[38,5] <- 3 #Pennsylvania\n",
    "mymatrix[39,5] <- 0 #Rhode Island\n",
    "mymatrix[40,5] <- 4 #South Carolina\n",
    "mymatrix[41,5] <- 3 #South Dakota\n",
    "mymatrix[42,5] <- 3 #Tennessee\n",
    "mymatrix[43,5] <- 5 #Texas\n",
    "mymatrix[44,5] <- 4 #Utah\n",
    "mymatrix[45,5] <- 1 #Vermont\n",
    "mymatrix[46,5] <- 3 #Virginia\n",
    "mymatrix[47,5] <- 2 #Washington\n",
    "mymatrix[48,5] <- 2 #West Virginia\n",
    "mymatrix[49,5] <- 2 #Wisconsin\n",
    "mymatrix[50,5] <- 3 #Wyoming\n",
    "\n",
    "mymatrix"
   ]
  },
  {
   "cell_type": "code",
   "execution_count": 6,
   "metadata": {
    "collapsed": false
   },
   "outputs": [],
   "source": [
    "random_vector <- sample(2,50, replace=T, prob=c(.6,.4))"
   ]
  },
  {
   "cell_type": "code",
   "execution_count": 7,
   "metadata": {
    "collapsed": false
   },
   "outputs": [
    {
     "data": {
      "text/html": [
       "<table>\n",
       "<caption>A data.frame: 29 x 5</caption>\n",
       "<thead>\n",
       "\t<tr><th></th><th scope=col>Murder</th><th scope=col>Assault</th><th scope=col>UrbanPop</th><th scope=col>Rape</th><th scope=col>Armas</th></tr>\n",
       "\t<tr><th></th><th scope=col>&lt;dbl&gt;</th><th scope=col>&lt;int&gt;</th><th scope=col>&lt;int&gt;</th><th scope=col>&lt;dbl&gt;</th><th scope=col>&lt;dbl&gt;</th></tr>\n",
       "</thead>\n",
       "<tbody>\n",
       "\t<tr><th scope=row>Alabama</th><td>13.2</td><td>236</td><td>58</td><td>21.2</td><td>4</td></tr>\n",
       "\t<tr><th scope=row>Alaska</th><td>10.0</td><td>263</td><td>48</td><td>44.5</td><td>2</td></tr>\n",
       "\t<tr><th scope=row>Arkansas</th><td> 8.8</td><td>190</td><td>50</td><td>19.5</td><td>5</td></tr>\n",
       "\t<tr><th scope=row>California</th><td> 9.0</td><td>276</td><td>91</td><td>40.6</td><td>3</td></tr>\n",
       "\t<tr><th scope=row>Colorado</th><td> 7.9</td><td>204</td><td>78</td><td>38.7</td><td>2</td></tr>\n",
       "\t<tr><th scope=row>Connecticut</th><td> 3.3</td><td>110</td><td>77</td><td>11.1</td><td>2</td></tr>\n",
       "\t<tr><th scope=row>Florida</th><td>15.4</td><td>335</td><td>80</td><td>31.9</td><td>3</td></tr>\n",
       "\t<tr><th scope=row>Georgia</th><td>17.4</td><td>211</td><td>60</td><td>25.8</td><td>4</td></tr>\n",
       "\t<tr><th scope=row>Illinois</th><td>10.4</td><td>249</td><td>83</td><td>24.0</td><td>3</td></tr>\n",
       "\t<tr><th scope=row>Indiana</th><td> 7.2</td><td>113</td><td>65</td><td>21.0</td><td>2</td></tr>\n",
       "\t<tr><th scope=row>Kentucky</th><td> 9.7</td><td>109</td><td>52</td><td>16.3</td><td>3</td></tr>\n",
       "\t<tr><th scope=row>Maine</th><td> 2.1</td><td> 83</td><td>51</td><td> 7.8</td><td>2</td></tr>\n",
       "\t<tr><th scope=row>Maryland</th><td>11.3</td><td>300</td><td>67</td><td>27.8</td><td>1</td></tr>\n",
       "\t<tr><th scope=row>Massachusetts</th><td> 4.4</td><td>149</td><td>85</td><td>16.3</td><td>2</td></tr>\n",
       "\t<tr><th scope=row>Michigan</th><td>12.1</td><td>255</td><td>74</td><td>35.1</td><td>2</td></tr>\n",
       "\t<tr><th scope=row>Minnesota</th><td> 2.7</td><td> 72</td><td>66</td><td>14.9</td><td>4</td></tr>\n",
       "\t<tr><th scope=row>Mississippi</th><td>16.1</td><td>259</td><td>44</td><td>17.1</td><td>4</td></tr>\n",
       "\t<tr><th scope=row>Missouri</th><td> 9.0</td><td>178</td><td>70</td><td>28.2</td><td>4</td></tr>\n",
       "\t<tr><th scope=row>New Hampshire</th><td> 2.1</td><td> 57</td><td>56</td><td> 9.5</td><td>5</td></tr>\n",
       "\t<tr><th scope=row>New Jersey</th><td> 7.4</td><td>159</td><td>89</td><td>18.8</td><td>0</td></tr>\n",
       "\t<tr><th scope=row>New Mexico</th><td>11.4</td><td>285</td><td>70</td><td>32.1</td><td>1</td></tr>\n",
       "\t<tr><th scope=row>New York</th><td>11.1</td><td>254</td><td>86</td><td>26.1</td><td>2</td></tr>\n",
       "\t<tr><th scope=row>North Carolina</th><td>13.0</td><td>337</td><td>45</td><td>16.1</td><td>3</td></tr>\n",
       "\t<tr><th scope=row>Ohio</th><td> 7.3</td><td>120</td><td>75</td><td>21.4</td><td>3</td></tr>\n",
       "\t<tr><th scope=row>South Carolina</th><td>14.4</td><td>279</td><td>48</td><td>22.5</td><td>4</td></tr>\n",
       "\t<tr><th scope=row>South Dakota</th><td> 3.8</td><td> 86</td><td>45</td><td>12.8</td><td>3</td></tr>\n",
       "\t<tr><th scope=row>Tennessee</th><td>13.2</td><td>188</td><td>59</td><td>26.9</td><td>3</td></tr>\n",
       "\t<tr><th scope=row>Vermont</th><td> 2.2</td><td> 48</td><td>32</td><td>11.2</td><td>1</td></tr>\n",
       "\t<tr><th scope=row>Wyoming</th><td> 6.8</td><td>161</td><td>60</td><td>15.6</td><td>3</td></tr>\n",
       "</tbody>\n",
       "</table>\n"
      ],
      "text/latex": [
       "A data.frame: 29 x 5\n",
       "\\begin{tabular}{r|lllll}\n",
       "  & Murder & Assault & UrbanPop & Rape & Armas\\\\\n",
       "  & <dbl> & <int> & <int> & <dbl> & <dbl>\\\\\n",
       "\\hline\n",
       "\tAlabama & 13.2 & 236 & 58 & 21.2 & 4\\\\\n",
       "\tAlaska & 10.0 & 263 & 48 & 44.5 & 2\\\\\n",
       "\tArkansas &  8.8 & 190 & 50 & 19.5 & 5\\\\\n",
       "\tCalifornia &  9.0 & 276 & 91 & 40.6 & 3\\\\\n",
       "\tColorado &  7.9 & 204 & 78 & 38.7 & 2\\\\\n",
       "\tConnecticut &  3.3 & 110 & 77 & 11.1 & 2\\\\\n",
       "\tFlorida & 15.4 & 335 & 80 & 31.9 & 3\\\\\n",
       "\tGeorgia & 17.4 & 211 & 60 & 25.8 & 4\\\\\n",
       "\tIllinois & 10.4 & 249 & 83 & 24.0 & 3\\\\\n",
       "\tIndiana &  7.2 & 113 & 65 & 21.0 & 2\\\\\n",
       "\tKentucky &  9.7 & 109 & 52 & 16.3 & 3\\\\\n",
       "\tMaine &  2.1 &  83 & 51 &  7.8 & 2\\\\\n",
       "\tMaryland & 11.3 & 300 & 67 & 27.8 & 1\\\\\n",
       "\tMassachusetts &  4.4 & 149 & 85 & 16.3 & 2\\\\\n",
       "\tMichigan & 12.1 & 255 & 74 & 35.1 & 2\\\\\n",
       "\tMinnesota &  2.7 &  72 & 66 & 14.9 & 4\\\\\n",
       "\tMississippi & 16.1 & 259 & 44 & 17.1 & 4\\\\\n",
       "\tMissouri &  9.0 & 178 & 70 & 28.2 & 4\\\\\n",
       "\tNew Hampshire &  2.1 &  57 & 56 &  9.5 & 5\\\\\n",
       "\tNew Jersey &  7.4 & 159 & 89 & 18.8 & 0\\\\\n",
       "\tNew Mexico & 11.4 & 285 & 70 & 32.1 & 1\\\\\n",
       "\tNew York & 11.1 & 254 & 86 & 26.1 & 2\\\\\n",
       "\tNorth Carolina & 13.0 & 337 & 45 & 16.1 & 3\\\\\n",
       "\tOhio &  7.3 & 120 & 75 & 21.4 & 3\\\\\n",
       "\tSouth Carolina & 14.4 & 279 & 48 & 22.5 & 4\\\\\n",
       "\tSouth Dakota &  3.8 &  86 & 45 & 12.8 & 3\\\\\n",
       "\tTennessee & 13.2 & 188 & 59 & 26.9 & 3\\\\\n",
       "\tVermont &  2.2 &  48 & 32 & 11.2 & 1\\\\\n",
       "\tWyoming &  6.8 & 161 & 60 & 15.6 & 3\\\\\n",
       "\\end{tabular}\n"
      ],
      "text/markdown": [
       "\n",
       "A data.frame: 29 x 5\n",
       "\n",
       "| <!--/--> | Murder &lt;dbl&gt; | Assault &lt;int&gt; | UrbanPop &lt;int&gt; | Rape &lt;dbl&gt; | Armas &lt;dbl&gt; |\n",
       "|---|---|---|---|---|---|\n",
       "| Alabama | 13.2 | 236 | 58 | 21.2 | 4 |\n",
       "| Alaska | 10.0 | 263 | 48 | 44.5 | 2 |\n",
       "| Arkansas |  8.8 | 190 | 50 | 19.5 | 5 |\n",
       "| California |  9.0 | 276 | 91 | 40.6 | 3 |\n",
       "| Colorado |  7.9 | 204 | 78 | 38.7 | 2 |\n",
       "| Connecticut |  3.3 | 110 | 77 | 11.1 | 2 |\n",
       "| Florida | 15.4 | 335 | 80 | 31.9 | 3 |\n",
       "| Georgia | 17.4 | 211 | 60 | 25.8 | 4 |\n",
       "| Illinois | 10.4 | 249 | 83 | 24.0 | 3 |\n",
       "| Indiana |  7.2 | 113 | 65 | 21.0 | 2 |\n",
       "| Kentucky |  9.7 | 109 | 52 | 16.3 | 3 |\n",
       "| Maine |  2.1 |  83 | 51 |  7.8 | 2 |\n",
       "| Maryland | 11.3 | 300 | 67 | 27.8 | 1 |\n",
       "| Massachusetts |  4.4 | 149 | 85 | 16.3 | 2 |\n",
       "| Michigan | 12.1 | 255 | 74 | 35.1 | 2 |\n",
       "| Minnesota |  2.7 |  72 | 66 | 14.9 | 4 |\n",
       "| Mississippi | 16.1 | 259 | 44 | 17.1 | 4 |\n",
       "| Missouri |  9.0 | 178 | 70 | 28.2 | 4 |\n",
       "| New Hampshire |  2.1 |  57 | 56 |  9.5 | 5 |\n",
       "| New Jersey |  7.4 | 159 | 89 | 18.8 | 0 |\n",
       "| New Mexico | 11.4 | 285 | 70 | 32.1 | 1 |\n",
       "| New York | 11.1 | 254 | 86 | 26.1 | 2 |\n",
       "| North Carolina | 13.0 | 337 | 45 | 16.1 | 3 |\n",
       "| Ohio |  7.3 | 120 | 75 | 21.4 | 3 |\n",
       "| South Carolina | 14.4 | 279 | 48 | 22.5 | 4 |\n",
       "| South Dakota |  3.8 |  86 | 45 | 12.8 | 3 |\n",
       "| Tennessee | 13.2 | 188 | 59 | 26.9 | 3 |\n",
       "| Vermont |  2.2 |  48 | 32 | 11.2 | 1 |\n",
       "| Wyoming |  6.8 | 161 | 60 | 15.6 | 3 |\n",
       "\n"
      ],
      "text/plain": [
       "               Murder Assault UrbanPop Rape Armas\n",
       "Alabama        13.2   236     58       21.2 4    \n",
       "Alaska         10.0   263     48       44.5 2    \n",
       "Arkansas        8.8   190     50       19.5 5    \n",
       "California      9.0   276     91       40.6 3    \n",
       "Colorado        7.9   204     78       38.7 2    \n",
       "Connecticut     3.3   110     77       11.1 2    \n",
       "Florida        15.4   335     80       31.9 3    \n",
       "Georgia        17.4   211     60       25.8 4    \n",
       "Illinois       10.4   249     83       24.0 3    \n",
       "Indiana         7.2   113     65       21.0 2    \n",
       "Kentucky        9.7   109     52       16.3 3    \n",
       "Maine           2.1    83     51        7.8 2    \n",
       "Maryland       11.3   300     67       27.8 1    \n",
       "Massachusetts   4.4   149     85       16.3 2    \n",
       "Michigan       12.1   255     74       35.1 2    \n",
       "Minnesota       2.7    72     66       14.9 4    \n",
       "Mississippi    16.1   259     44       17.1 4    \n",
       "Missouri        9.0   178     70       28.2 4    \n",
       "New Hampshire   2.1    57     56        9.5 5    \n",
       "New Jersey      7.4   159     89       18.8 0    \n",
       "New Mexico     11.4   285     70       32.1 1    \n",
       "New York       11.1   254     86       26.1 2    \n",
       "North Carolina 13.0   337     45       16.1 3    \n",
       "Ohio            7.3   120     75       21.4 3    \n",
       "South Carolina 14.4   279     48       22.5 4    \n",
       "South Dakota    3.8    86     45       12.8 3    \n",
       "Tennessee      13.2   188     59       26.9 3    \n",
       "Vermont         2.2    48     32       11.2 1    \n",
       "Wyoming         6.8   161     60       15.6 3    "
      ]
     },
     "metadata": {},
     "output_type": "display_data"
    }
   ],
   "source": [
    "treino <- mymatrix[which(random_vector==1),] #posições de linha, tal que os valores são 1 no vertor amostra 1; para todas as colunas.\n",
    "treino"
   ]
  },
  {
   "cell_type": "code",
   "execution_count": 8,
   "metadata": {
    "collapsed": false
   },
   "outputs": [
    {
     "data": {
      "text/html": [
       "<table>\n",
       "<caption>A data.frame: 21 x 5</caption>\n",
       "<thead>\n",
       "\t<tr><th></th><th scope=col>Murder</th><th scope=col>Assault</th><th scope=col>UrbanPop</th><th scope=col>Rape</th><th scope=col>Armas</th></tr>\n",
       "\t<tr><th></th><th scope=col>&lt;dbl&gt;</th><th scope=col>&lt;int&gt;</th><th scope=col>&lt;int&gt;</th><th scope=col>&lt;dbl&gt;</th><th scope=col>&lt;dbl&gt;</th></tr>\n",
       "</thead>\n",
       "<tbody>\n",
       "\t<tr><th scope=row>Arizona</th><td> 8.1</td><td>294</td><td>80</td><td>31.0</td><td>5</td></tr>\n",
       "\t<tr><th scope=row>Delaware</th><td> 5.9</td><td>238</td><td>72</td><td>15.8</td><td>0</td></tr>\n",
       "\t<tr><th scope=row>Hawaii</th><td> 5.3</td><td> 46</td><td>83</td><td>20.2</td><td>0</td></tr>\n",
       "\t<tr><th scope=row>Idaho</th><td> 2.6</td><td>120</td><td>54</td><td>14.2</td><td>5</td></tr>\n",
       "\t<tr><th scope=row>Iowa</th><td> 2.2</td><td> 56</td><td>57</td><td>11.3</td><td>5</td></tr>\n",
       "\t<tr><th scope=row>Kansas</th><td> 6.0</td><td>115</td><td>66</td><td>18.0</td><td>3</td></tr>\n",
       "\t<tr><th scope=row>Louisiana</th><td>15.4</td><td>249</td><td>66</td><td>22.2</td><td>3</td></tr>\n",
       "\t<tr><th scope=row>Montana</th><td> 6.0</td><td>109</td><td>53</td><td>16.4</td><td>2</td></tr>\n",
       "\t<tr><th scope=row>Nebraska</th><td> 4.3</td><td>102</td><td>62</td><td>16.5</td><td>1</td></tr>\n",
       "\t<tr><th scope=row>Nevada</th><td>12.2</td><td>252</td><td>81</td><td>46.0</td><td>1</td></tr>\n",
       "\t<tr><th scope=row>North Dakota</th><td> 0.8</td><td> 45</td><td>44</td><td> 7.3</td><td>2</td></tr>\n",
       "\t<tr><th scope=row>Oklahoma</th><td> 6.6</td><td>151</td><td>68</td><td>20.0</td><td>2</td></tr>\n",
       "\t<tr><th scope=row>Oregon</th><td> 4.9</td><td>159</td><td>67</td><td>29.3</td><td>3</td></tr>\n",
       "\t<tr><th scope=row>Pennsylvania</th><td> 6.3</td><td>106</td><td>72</td><td>14.9</td><td>3</td></tr>\n",
       "\t<tr><th scope=row>Rhode Island</th><td> 3.4</td><td>174</td><td>87</td><td> 8.3</td><td>0</td></tr>\n",
       "\t<tr><th scope=row>Texas</th><td>12.7</td><td>201</td><td>80</td><td>25.5</td><td>5</td></tr>\n",
       "\t<tr><th scope=row>Utah</th><td> 3.2</td><td>120</td><td>80</td><td>22.9</td><td>4</td></tr>\n",
       "\t<tr><th scope=row>Virginia</th><td> 8.5</td><td>156</td><td>63</td><td>20.7</td><td>3</td></tr>\n",
       "\t<tr><th scope=row>Washington</th><td> 4.0</td><td>145</td><td>73</td><td>26.2</td><td>2</td></tr>\n",
       "\t<tr><th scope=row>West Virginia</th><td> 5.7</td><td> 81</td><td>39</td><td> 9.3</td><td>2</td></tr>\n",
       "\t<tr><th scope=row>Wisconsin</th><td> 2.6</td><td> 53</td><td>66</td><td>10.8</td><td>2</td></tr>\n",
       "</tbody>\n",
       "</table>\n"
      ],
      "text/latex": [
       "A data.frame: 21 x 5\n",
       "\\begin{tabular}{r|lllll}\n",
       "  & Murder & Assault & UrbanPop & Rape & Armas\\\\\n",
       "  & <dbl> & <int> & <int> & <dbl> & <dbl>\\\\\n",
       "\\hline\n",
       "\tArizona &  8.1 & 294 & 80 & 31.0 & 5\\\\\n",
       "\tDelaware &  5.9 & 238 & 72 & 15.8 & 0\\\\\n",
       "\tHawaii &  5.3 &  46 & 83 & 20.2 & 0\\\\\n",
       "\tIdaho &  2.6 & 120 & 54 & 14.2 & 5\\\\\n",
       "\tIowa &  2.2 &  56 & 57 & 11.3 & 5\\\\\n",
       "\tKansas &  6.0 & 115 & 66 & 18.0 & 3\\\\\n",
       "\tLouisiana & 15.4 & 249 & 66 & 22.2 & 3\\\\\n",
       "\tMontana &  6.0 & 109 & 53 & 16.4 & 2\\\\\n",
       "\tNebraska &  4.3 & 102 & 62 & 16.5 & 1\\\\\n",
       "\tNevada & 12.2 & 252 & 81 & 46.0 & 1\\\\\n",
       "\tNorth Dakota &  0.8 &  45 & 44 &  7.3 & 2\\\\\n",
       "\tOklahoma &  6.6 & 151 & 68 & 20.0 & 2\\\\\n",
       "\tOregon &  4.9 & 159 & 67 & 29.3 & 3\\\\\n",
       "\tPennsylvania &  6.3 & 106 & 72 & 14.9 & 3\\\\\n",
       "\tRhode Island &  3.4 & 174 & 87 &  8.3 & 0\\\\\n",
       "\tTexas & 12.7 & 201 & 80 & 25.5 & 5\\\\\n",
       "\tUtah &  3.2 & 120 & 80 & 22.9 & 4\\\\\n",
       "\tVirginia &  8.5 & 156 & 63 & 20.7 & 3\\\\\n",
       "\tWashington &  4.0 & 145 & 73 & 26.2 & 2\\\\\n",
       "\tWest Virginia &  5.7 &  81 & 39 &  9.3 & 2\\\\\n",
       "\tWisconsin &  2.6 &  53 & 66 & 10.8 & 2\\\\\n",
       "\\end{tabular}\n"
      ],
      "text/markdown": [
       "\n",
       "A data.frame: 21 x 5\n",
       "\n",
       "| <!--/--> | Murder &lt;dbl&gt; | Assault &lt;int&gt; | UrbanPop &lt;int&gt; | Rape &lt;dbl&gt; | Armas &lt;dbl&gt; |\n",
       "|---|---|---|---|---|---|\n",
       "| Arizona |  8.1 | 294 | 80 | 31.0 | 5 |\n",
       "| Delaware |  5.9 | 238 | 72 | 15.8 | 0 |\n",
       "| Hawaii |  5.3 |  46 | 83 | 20.2 | 0 |\n",
       "| Idaho |  2.6 | 120 | 54 | 14.2 | 5 |\n",
       "| Iowa |  2.2 |  56 | 57 | 11.3 | 5 |\n",
       "| Kansas |  6.0 | 115 | 66 | 18.0 | 3 |\n",
       "| Louisiana | 15.4 | 249 | 66 | 22.2 | 3 |\n",
       "| Montana |  6.0 | 109 | 53 | 16.4 | 2 |\n",
       "| Nebraska |  4.3 | 102 | 62 | 16.5 | 1 |\n",
       "| Nevada | 12.2 | 252 | 81 | 46.0 | 1 |\n",
       "| North Dakota |  0.8 |  45 | 44 |  7.3 | 2 |\n",
       "| Oklahoma |  6.6 | 151 | 68 | 20.0 | 2 |\n",
       "| Oregon |  4.9 | 159 | 67 | 29.3 | 3 |\n",
       "| Pennsylvania |  6.3 | 106 | 72 | 14.9 | 3 |\n",
       "| Rhode Island |  3.4 | 174 | 87 |  8.3 | 0 |\n",
       "| Texas | 12.7 | 201 | 80 | 25.5 | 5 |\n",
       "| Utah |  3.2 | 120 | 80 | 22.9 | 4 |\n",
       "| Virginia |  8.5 | 156 | 63 | 20.7 | 3 |\n",
       "| Washington |  4.0 | 145 | 73 | 26.2 | 2 |\n",
       "| West Virginia |  5.7 |  81 | 39 |  9.3 | 2 |\n",
       "| Wisconsin |  2.6 |  53 | 66 | 10.8 | 2 |\n",
       "\n"
      ],
      "text/plain": [
       "              Murder Assault UrbanPop Rape Armas\n",
       "Arizona        8.1   294     80       31.0 5    \n",
       "Delaware       5.9   238     72       15.8 0    \n",
       "Hawaii         5.3    46     83       20.2 0    \n",
       "Idaho          2.6   120     54       14.2 5    \n",
       "Iowa           2.2    56     57       11.3 5    \n",
       "Kansas         6.0   115     66       18.0 3    \n",
       "Louisiana     15.4   249     66       22.2 3    \n",
       "Montana        6.0   109     53       16.4 2    \n",
       "Nebraska       4.3   102     62       16.5 1    \n",
       "Nevada        12.2   252     81       46.0 1    \n",
       "North Dakota   0.8    45     44        7.3 2    \n",
       "Oklahoma       6.6   151     68       20.0 2    \n",
       "Oregon         4.9   159     67       29.3 3    \n",
       "Pennsylvania   6.3   106     72       14.9 3    \n",
       "Rhode Island   3.4   174     87        8.3 0    \n",
       "Texas         12.7   201     80       25.5 5    \n",
       "Utah           3.2   120     80       22.9 4    \n",
       "Virginia       8.5   156     63       20.7 3    \n",
       "Washington     4.0   145     73       26.2 2    \n",
       "West Virginia  5.7    81     39        9.3 2    \n",
       "Wisconsin      2.6    53     66       10.8 2    "
      ]
     },
     "metadata": {},
     "output_type": "display_data"
    }
   ],
   "source": [
    "dados_controle <- mymatrix[which(random_vector==2),]\n",
    "dados_controle"
   ]
  },
  {
   "cell_type": "code",
   "execution_count": 9,
   "metadata": {
    "collapsed": false
   },
   "outputs": [],
   "source": [
    "## library(neuralnet)\n",
    "n <- names(treino)\n",
    "f <- as.formula(paste(\"Armas ~\", paste(n[!n %in% \"Armas\"], collapse = \" + \")))\n",
    "nn <- neuralnet(f,data=treino,hidden=c(10,10,5),linear.output=TRUE, threshold=0.001, lifesign.step=10, learningrate.factor = list(minus = 0.8, plus = 1.4), algorithm=\"rprop+\", err.fct=\"sse\")\n",
    "\n",
    "\n",
    "### PARAMETROS POSSÍVEIS:\n",
    "## formula, data, hidden\n",
    "## treshold\n",
    "## rep\n",
    "## startweights\n",
    "## algorithm ->  \"backprop\" || \"rprop+\", \"rprop-\" ||  \"sag\", \"slr\" ||\n",
    "## err.fct\n",
    "## act.fct -> \"logistic\", \"tanh\"\n",
    "## linear.output -> Default: TRUE || se quiser utilizar função de ativação, deixar FALSE\n",
    "## exclude\n",
    "## constant.weights\n",
    "\n",
    "## Consultar:\n",
    "## https://journal.r-project.org/archive/2010/RJ-2010-006/RJ-2010-006.pdf"
   ]
  },
  {
   "cell_type": "code",
   "execution_count": null,
   "metadata": {
    "collapsed": false
   },
   "outputs": [],
   "source": [
    "nn"
   ]
  },
  {
   "cell_type": "code",
   "execution_count": null,
   "metadata": {
    "collapsed": false
   },
   "outputs": [],
   "source": [
    "predicao.nn <- predict(nn,dados_controle[,1:4])"
   ]
  },
  {
   "cell_type": "code",
   "execution_count": null,
   "metadata": {
    "collapsed": false
   },
   "outputs": [],
   "source": [
    "predicao.nn"
   ]
  },
  {
   "cell_type": "code",
   "execution_count": null,
   "metadata": {
    "collapsed": false
   },
   "outputs": [],
   "source": [
    "## predicao.nn$net.result"
   ]
  },
  {
   "cell_type": "code",
   "execution_count": null,
   "metadata": {
    "collapsed": false
   },
   "outputs": [],
   "source": [
    "## Erro\n",
    "sqrt(sum((dados_controle[,5] - predicao.nn)^2)/nrow(dados_controle))"
   ]
  },
  {
   "cell_type": "code",
   "execution_count": null,
   "metadata": {
    "collapsed": false
   },
   "outputs": [],
   "source": [
    "dados_controle"
   ]
  },
  {
   "cell_type": "code",
   "execution_count": null,
   "metadata": {
    "collapsed": false
   },
   "outputs": [],
   "source": [
    "## avg <- sum(predicao.nn$net.result)/nrow(predicao.nn$net.result)\n",
    "## sqrt(sum((avg- predicao.nn$net.result)^2)/nrow(predicao.nn$net.result))\n",
    "avg <- sum(predicao.nn)/nrow(predicao.nn)\n",
    "sqrt(sum((avg - predicao.nn)^2)/nrow(predicao.nn))"
   ]
  },
  {
   "cell_type": "code",
   "execution_count": null,
   "metadata": {
    "collapsed": false
   },
   "outputs": [],
   "source": [
    "## round(2.59)"
   ]
  },
  {
   "cell_type": "code",
   "execution_count": null,
   "metadata": {
    "collapsed": false
   },
   "outputs": [],
   "source": [
    "## round(1.49)"
   ]
  },
  {
   "cell_type": "code",
   "execution_count": null,
   "metadata": {
    "collapsed": false
   },
   "outputs": [],
   "source": [
    "round(predicao.nn$net.result)"
   ]
  },
  {
   "cell_type": "code",
   "execution_count": null,
   "metadata": {
    "collapsed": false
   },
   "outputs": [],
   "source": [
    "sqrt(sum((dados_controle[,5] - round(predicao.nn$net.result))^2)/nrow(dados_controle))"
   ]
  },
  {
   "cell_type": "code",
   "execution_count": null,
   "metadata": {
    "collapsed": false
   },
   "outputs": [],
   "source": [
    "## library(caret)"
   ]
  },
  {
   "cell_type": "code",
   "execution_count": null,
   "metadata": {
    "collapsed": false
   },
   "outputs": [],
   "source": [
    "## confusao <- confusionMatrix( dados_controle[,5], round(predicao.nn$net.result))\n",
    "## grau.acerto <- (sum(diag(confusao)))*100 / sum(confusao)"
   ]
  },
  {
   "cell_type": "code",
   "execution_count": null,
   "metadata": {
    "collapsed": false
   },
   "outputs": [],
   "source": [
    "## confusao"
   ]
  },
  {
   "cell_type": "code",
   "execution_count": null,
   "metadata": {
    "collapsed": false
   },
   "outputs": [],
   "source": [
    "## plot(dados_controle$Armas,predicao.nn$net.result,col='red',main='Real\n",
    "## vs predicted NN',pch=18,cex=0.7)\n",
    "## abline(0,1,lwd=2)\n",
    "## legend('bottomright',legend='NN',pch=18,col='red', bty='n')\n",
    "\n",
    "##(escala de 0-6)\n",
    "##hidden(4, 9) -> desvio padrão= 2.145; 2.585\n",
    "##hidden(5,7) -> desvio padrão= 1.744; 1.334; 1.773; 1.976; 1.377\n",
    "##hidden(4,5) -> desvio padrão= 1.516; 1.889; 1.937; 1.321; 1.983\n",
    "##hidden(7,3) -> desvio padrão= 1.526; 1.456; 1.151\n"
   ]
  },
  {
   "cell_type": "code",
   "execution_count": null,
   "metadata": {
    "collapsed": false
   },
   "outputs": [],
   "source": [
    "######Teste de plot"
   ]
  },
  {
   "cell_type": "code",
   "execution_count": null,
   "metadata": {
    "collapsed": false
   },
   "outputs": [],
   "source": [
    "## set.seed(1919)                                 # Create example data\n",
    "## x1 <- rnorm(1000)\n",
    "## y1 <- x1 + rnorm(1000)"
   ]
  },
  {
   "cell_type": "code",
   "execution_count": null,
   "metadata": {
    "collapsed": false
   },
   "outputs": [],
   "source": [
    "## plot(x1, y1)  "
   ]
  }
 ],
 "metadata": {
  "kernelspec": {
   "argv": [
    "/usr/lib64/R/bin/R",
    "--slave",
    "-e",
    "IRkernel::main()",
    "--args",
    "{connection_file}"
   ],
   "display_name": "R",
   "env": null,
   "interrupt_mode": "signal",
   "language": "R",
   "metadata": null,
   "name": "ir"
  },
  "name": "Untitled1.ipynb"
 },
 "nbformat": 4,
 "nbformat_minor": 4
}
